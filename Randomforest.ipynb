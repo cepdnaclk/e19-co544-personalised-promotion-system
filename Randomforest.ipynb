{
  "nbformat": 4,
  "nbformat_minor": 0,
  "metadata": {
    "colab": {
      "provenance": []
    },
    "kernelspec": {
      "name": "python3",
      "display_name": "Python 3"
    },
    "language_info": {
      "name": "python"
    }
  },
  "cells": [
    {
      "cell_type": "code",
      "execution_count": 2,
      "metadata": {
        "colab": {
          "base_uri": "https://localhost:8080/"
        },
        "id": "w8O_zimDqnxY",
        "outputId": "b50ed618-378f-43d2-b636-ffbd571d4ba7"
      },
      "outputs": [
        {
          "output_type": "stream",
          "name": "stdout",
          "text": [
            "                    City       Date  Card Type Exp Type Gender  Amount\n",
            "0           Delhi, India  29-Oct-14       Gold    Bills      F   82475\n",
            "1  Greater Mumbai, India  22-Aug-14   Platinum    Bills      F   32555\n",
            "2       Bengaluru, India  27-Aug-14     Silver    Bills      F  101738\n",
            "3  Greater Mumbai, India  12-Apr-14  Signature    Bills      F  123424\n",
            "4       Bengaluru, India   5-May-15       Gold    Bills      F  171574\n",
            "                   City       Date  Card Type Exp Type Gender  Amount\n",
            "26047    Kolkata, India  22-Jun-14     Silver   Travel      F  128191\n",
            "26048       Pune, India   3-Aug-14  Signature   Travel      M  246316\n",
            "26049  Hyderabad, India  16-Jan-15     Silver   Travel      M  265019\n",
            "26050     Kanpur, India  14-Sep-14     Silver   Travel      M   88174\n",
            "26051  Hyderabad, India  19-Oct-13  Signature    Bills      M  184410\n"
          ]
        }
      ],
      "source": [
        "import pandas as pd\n",
        "import numpy as np\n",
        "import matplotlib.pyplot as plt\n",
        "from sklearn.model_selection import train_test_split\n",
        "from sklearn.preprocessing import StandardScaler, LabelEncoder\n",
        "from sklearn.ensemble import RandomForestRegressor\n",
        "from sklearn.metrics import mean_squared_error, r2_score\n",
        "\n",
        "# Load the data\n",
        "data = pd.read_csv('dataset.csv').drop('index', axis=1)\n",
        "\n",
        "print(data.head())\n",
        "print(data.tail())\n",
        "\n"
      ]
    },
    {
      "cell_type": "code",
      "source": [
        "# Convert Date to datetime\n",
        "data['Date'] = pd.to_datetime(data['Date'], format='%d-%b-%y')\n",
        "\n",
        "# Extract features from Date\n",
        "data['Year'] = data['Date'].dt.year\n",
        "data['Month'] = data['Date'].dt.month\n",
        "data['Day'] = data['Date'].dt.day\n",
        "\n",
        "# Drop original Date column\n",
        "data = data.drop(columns=['Date'])\n",
        "print(data.head())"
      ],
      "metadata": {
        "colab": {
          "base_uri": "https://localhost:8080/"
        },
        "id": "jvx4HEegq6LH",
        "outputId": "695bb0a1-3251-4bdd-c737-49287033a4c2"
      },
      "execution_count": 3,
      "outputs": [
        {
          "output_type": "stream",
          "name": "stdout",
          "text": [
            "                    City  Card Type Exp Type Gender  Amount  Year  Month  Day\n",
            "0           Delhi, India       Gold    Bills      F   82475  2014     10   29\n",
            "1  Greater Mumbai, India   Platinum    Bills      F   32555  2014      8   22\n",
            "2       Bengaluru, India     Silver    Bills      F  101738  2014      8   27\n",
            "3  Greater Mumbai, India  Signature    Bills      F  123424  2014      4   12\n",
            "4       Bengaluru, India       Gold    Bills      F  171574  2015      5    5\n"
          ]
        }
      ]
    },
    {
      "cell_type": "code",
      "source": [
        "# Encode categorical variables\n",
        "label_encoders = {}\n",
        "categorical_columns = ['City', 'Card Type', 'Exp Type', 'Gender']\n",
        "\n",
        "for col in categorical_columns:\n",
        "    label_encoders[col] = LabelEncoder()\n",
        "    data[col] = label_encoders[col].fit_transform(data[col])\n",
        "\n",
        "print(data.tail())"
      ],
      "metadata": {
        "colab": {
          "base_uri": "https://localhost:8080/"
        },
        "id": "ArNQCBm5rF_P",
        "outputId": "22437d03-4438-4ce7-dc61-b28ebb89f291"
      },
      "execution_count": 4,
      "outputs": [
        {
          "output_type": "stream",
          "name": "stdout",
          "text": [
            "       City  Card Type  Exp Type  Gender  Amount  Year  Month  Day\n",
            "26047   267          3         5       0  128191  2014      6   22\n",
            "26048   584          2         5       1  246316  2014      8    3\n",
            "26049   193          3         5       1  265019  2015      1   16\n",
            "26050   237          3         5       1   88174  2014      9   14\n",
            "26051   193          2         0       1  184410  2013     10   19\n"
          ]
        }
      ]
    },
    {
      "cell_type": "code",
      "source": [
        "# Split data into features and target variable\n",
        "X = data.drop(columns=['Amount'])\n",
        "y = data['Amount']\n",
        "\n",
        "print(X)\n",
        "print(y)"
      ],
      "metadata": {
        "colab": {
          "base_uri": "https://localhost:8080/"
        },
        "id": "90PPYvLbrLA2",
        "outputId": "9a0ec999-0707-4820-bdc8-75bbab01f4b9"
      },
      "execution_count": 5,
      "outputs": [
        {
          "output_type": "stream",
          "name": "stdout",
          "text": [
            "       City  Card Type  Exp Type  Gender  Year  Month  Day\n",
            "0       126          0         0       0  2014     10   29\n",
            "1       170          1         0       0  2014      8   22\n",
            "2        71          3         0       0  2014      8   27\n",
            "3       170          2         0       0  2014      4   12\n",
            "4        71          0         0       0  2015      5    5\n",
            "...     ...        ...       ...     ...   ...    ...  ...\n",
            "26047   267          3         5       0  2014      6   22\n",
            "26048   584          2         5       1  2014      8    3\n",
            "26049   193          3         5       1  2015      1   16\n",
            "26050   237          3         5       1  2014      9   14\n",
            "26051   193          2         0       1  2013     10   19\n",
            "\n",
            "[26052 rows x 7 columns]\n",
            "0         82475\n",
            "1         32555\n",
            "2        101738\n",
            "3        123424\n",
            "4        171574\n",
            "          ...  \n",
            "26047    128191\n",
            "26048    246316\n",
            "26049    265019\n",
            "26050     88174\n",
            "26051    184410\n",
            "Name: Amount, Length: 26052, dtype: int64\n"
          ]
        }
      ]
    },
    {
      "cell_type": "code",
      "source": [
        "# Normalize the features\n",
        "scaler = StandardScaler()\n",
        "X_scaled = scaler.fit_transform(X)\n",
        "y_scaled = scaler.fit_transform(y.values.reshape(-1, 1)).flatten()\n",
        "\n",
        "print(X_scaled)\n",
        "print(y_scaled)"
      ],
      "metadata": {
        "colab": {
          "base_uri": "https://localhost:8080/"
        },
        "id": "6JOPm7jarOk7",
        "outputId": "534d3b33-dc37-4829-b38b-c405abd70c10"
      },
      "execution_count": 6,
      "outputs": [
        {
          "output_type": "stream",
          "name": "stdout",
          "text": [
            "[[-0.47067387 -1.35973352 -1.42030018 ... -0.14883968  0.97496339\n",
            "   1.52775611]\n",
            " [-0.29003652 -0.46995713 -1.42030018 ... -0.14883968  0.44014745\n",
            "   0.7258042 ]\n",
            " [-0.69647055  1.30959565 -1.42030018 ... -0.14883968  0.44014745\n",
            "   1.29862699]\n",
            " ...\n",
            " [-0.19561245  1.30959565  1.99534279 ...  1.46211639 -1.43170836\n",
            "   0.03841686]\n",
            " [-0.01497511  1.30959565  1.99534279 ... -0.14883968  0.70755542\n",
            "  -0.19071226]\n",
            " [-0.19561245  0.41981926 -1.42030018 ... -1.75979575  0.97496339\n",
            "   0.38211053]]\n",
            "[-0.71740367 -1.2017757  -0.53049544 ...  1.05381445 -0.66210647\n",
            "  0.27166811]\n"
          ]
        }
      ]
    },
    {
      "cell_type": "code",
      "source": [
        "# Split data into training and testing sets\n",
        "X_train, X_test, y_train, y_test = train_test_split(X_scaled, y_scaled, test_size=0.2, random_state=42)\n",
        "\n",
        "print(\"############################################################\")\n",
        "print(X_train)\n",
        "print(\"############################################################\")\n",
        "print(X_test)\n",
        "print(\"############################################################\")\n",
        "print(y_train)\n",
        "print(\"############################################################\")\n",
        "print(y_test)"
      ],
      "metadata": {
        "colab": {
          "base_uri": "https://localhost:8080/"
        },
        "id": "paPTOH-SrR8q",
        "outputId": "2fb380bf-b1f6-45f8-9953-b961d11c09cb"
      },
      "execution_count": 7,
      "outputs": [
        {
          "output_type": "stream",
          "name": "stdout",
          "text": [
            "############################################################\n",
            "[[-0.15455851 -1.35973352 -1.42030018 ... -1.75979575  1.24237136\n",
            "   0.95493332]\n",
            " [ 0.00965726  0.41981926 -0.73717159 ... -0.14883968  0.97496339\n",
            "  -1.10722872]\n",
            " [-0.29003652 -0.46995713 -1.42030018 ...  1.46211639 -1.43170836\n",
            "  -0.99266416]\n",
            " ...\n",
            " [-0.29003652  1.30959565  0.6290856  ... -0.14883968  1.50977933\n",
            "  -0.19071226]\n",
            " [-0.96332118 -0.46995713  1.3122142  ... -0.14883968 -0.89689241\n",
            "  -1.22179328]\n",
            " [ 0.24366473  1.30959565 -0.73717159 ...  1.46211639 -0.36207647\n",
            "  -1.56548695]]\n",
            "############################################################\n",
            "[[ 2.30867804  0.41981926  0.6290856  ... -0.14883968 -1.16430039\n",
            "  -1.68005151]\n",
            " [-0.47067387  0.41981926  1.3122142  ... -0.14883968  1.24237136\n",
            "  -0.64897049]\n",
            " [-0.95511039  0.41981926 -0.05404299 ... -0.14883968 -0.36207647\n",
            "  -0.19071226]\n",
            " ...\n",
            " [-0.29003652  1.30959565 -0.05404299 ... -1.75979575  1.50977933\n",
            "   1.41319155]\n",
            " [ 0.24366473 -0.46995713 -1.42030018 ...  1.46211639 -0.89689241\n",
            "   1.52775611]\n",
            " [ 1.98435189  1.30959565 -0.73717159 ...  1.46211639 -0.62948444\n",
            "   0.49667509]]\n",
            "############################################################\n",
            "[-1.10842347  0.09928523 -1.13384524 ...  1.34011015 -0.98914492\n",
            " -0.90843565]\n",
            "############################################################\n",
            "[-0.44794261 -0.09417249 -1.19608976 ... -0.28054705 -1.10676426\n",
            "  0.28594118]\n"
          ]
        }
      ]
    },
    {
      "cell_type": "code",
      "source": [
        "# Train the Random Forest model\n",
        "model = RandomForestRegressor(n_estimators=100, bootstrap=True, random_state=42)\n",
        "model.fit(X_train, y_train)\n",
        "\n",
        "# Evaluate the model\n",
        "y_pred = model.predict(X_test)\n",
        "\n",
        "mse = mean_squared_error(y_test, y_pred)\n",
        "r2 = r2_score(y_test, y_pred)\n",
        "print(f'Mean Squared Error: {mse}')\n",
        "print(f'R^2 Score: {r2}')\n",
        "\n",
        "# Plot the predicted vs actual values\n",
        "plt.scatter(y_test, y_pred, alpha=0.5)\n",
        "plt.xlabel('Actual Amount')\n",
        "plt.ylabel('Predicted Amount')\n",
        "plt.title('Actual vs Predicted Amount')\n",
        "plt.plot([min(y_test), max(y_test)], [min(y_test), max(y_test)], color='red', linewidth=2)  # Line of perfect prediction\n",
        "plt.show()"
      ],
      "metadata": {
        "colab": {
          "base_uri": "https://localhost:8080/",
          "height": 508
        },
        "id": "SCAHVG2FrVOa",
        "outputId": "8f09652e-7fc4-4f52-b556-bc2d737eb0c2"
      },
      "execution_count": 8,
      "outputs": [
        {
          "output_type": "stream",
          "name": "stdout",
          "text": [
            "Mean Squared Error: 1.1660438582937815\n",
            "R^2 Score: -0.18251406126901326\n"
          ]
        },
        {
          "output_type": "display_data",
          "data": {
            "text/plain": [
              "<Figure size 640x480 with 1 Axes>"
            ],
            "image/png": "[encoded data removed]"
          },
          "metadata": {}
        }
      ]
    },
    {
      "cell_type": "code",
      "source": [
        "# Display first few predictions and actual values\n",
        "print(f'Predicted amounts: {y_pred[:5]}')\n",
        "print(f'Actual amounts: {y_test[:5]}')"
      ],
      "metadata": {
        "colab": {
          "base_uri": "https://localhost:8080/"
        },
        "id": "AqX-QSS9raw1",
        "outputId": "71e45bfd-1b66-480e-d73e-423dfec82e5d"
      },
      "execution_count": 9,
      "outputs": [
        {
          "output_type": "stream",
          "name": "stdout",
          "text": [
            "Predicted amounts: [-0.33881336  0.44861002  0.05322618  0.54712055 -0.29447294]\n",
            "Actual amounts: [-0.44794261 -0.09417249 -1.19608976 -0.72808663  0.29119048]\n"
          ]
        }
      ]
    },
    {
      "cell_type": "code",
      "source": [
        "# Inverse transform the scaled predictions and actual values\n",
        "y_pred_original = scaler.inverse_transform(y_pred.reshape(-1, 1)).flatten()\n",
        "y_test_original = scaler.inverse_transform(y_test.reshape(-1, 1)).flatten()\n",
        "\n",
        "# Print the original (unscaled) predicted and actual amounts\n",
        "print(f'Predicted amounts (original scale): {y_pred_original[:5]}')\n",
        "print(f'Actual amounts (original scale): {y_test_original[:5]}')"
      ],
      "metadata": {
        "colab": {
          "base_uri": "https://localhost:8080/"
        },
        "id": "aR7ikRs1rhTr",
        "outputId": "6ea0f29d-bb88-4473-c9c3-42102f53226d"
      },
      "execution_count": 10,
      "outputs": [
        {
          "output_type": "stream",
          "name": "stdout",
          "text": [
            "Predicted amounts (original scale): [121493.         202645.85833333 161897.095      212798.48\n",
            " 126062.78      ]\n",
            "Actual amounts (original scale): [110246. 146706.  33141.  81374. 186422.]\n"
          ]
        }
      ]
    },
    {
      "cell_type": "code",
      "source": [],
      "metadata": {
        "id": "BCZ4k-Cjrj_b"
      },
      "execution_count": null,
      "outputs": []
    }
  ]
}