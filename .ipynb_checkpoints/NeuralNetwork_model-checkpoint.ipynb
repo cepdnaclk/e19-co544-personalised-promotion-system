{
 "cells": [
  {
   "cell_type": "code",
   "execution_count": 18,
   "id": "94870c49-613e-4153-8d7a-77ade66052e4",
   "metadata": {},
   "outputs": [
    {
     "name": "stdout",
     "output_type": "stream",
     "text": [
      "                    City       Date  Card Type Exp Type Gender  Amount\n",
      "0           Delhi, India  29-Oct-14       Gold    Bills      F   82475\n",
      "1  Greater Mumbai, India  22-Aug-14   Platinum    Bills      F   32555\n",
      "2       Bengaluru, India  27-Aug-14     Silver    Bills      F  101738\n",
      "3  Greater Mumbai, India  12-Apr-14  Signature    Bills      F  123424\n",
      "4       Bengaluru, India   5-May-15       Gold    Bills      F  171574\n",
      "                   City       Date  Card Type Exp Type Gender  Amount\n",
      "26047    Kolkata, India  22-Jun-14     Silver   Travel      F  128191\n",
      "26048       Pune, India   3-Aug-14  Signature   Travel      M  246316\n",
      "26049  Hyderabad, India  16-Jan-15     Silver   Travel      M  265019\n",
      "26050     Kanpur, India  14-Sep-14     Silver   Travel      M   88174\n",
      "26051  Hyderabad, India  19-Oct-13  Signature    Bills      M  184410\n"
     ]
    }
   ],
   "source": [
    "import pandas as pd\n",
    "import numpy as np\n",
    "import matplotlib.pyplot as plt\n",
    "from sklearn.model_selection import train_test_split\n",
    "from sklearn.preprocessing import StandardScaler, LabelEncoder\n",
    "import tensorflow as tf\n",
    "from tensorflow.keras.models import Sequential\n",
    "from tensorflow.keras.layers import Dense\n",
    "from tensorflow.keras.optimizers import Adam\n",
    "\n",
    "# Load the data\n",
    "data = pd.read_csv('dataset.csv').drop('index', axis=1)\n",
    "\n",
    "print(data.head())\n",
    "print(data.tail())"
   ]
  },
  {
   "cell_type": "code",
   "execution_count": 19,
   "id": "949133a9-6fe7-4605-a674-e636dbbcec0d",
   "metadata": {},
   "outputs": [
    {
     "name": "stdout",
     "output_type": "stream",
     "text": [
      "                    City  Card Type Exp Type Gender  Amount  Year  Month  Day\n",
      "0           Delhi, India       Gold    Bills      F   82475  2014     10   29\n",
      "1  Greater Mumbai, India   Platinum    Bills      F   32555  2014      8   22\n",
      "2       Bengaluru, India     Silver    Bills      F  101738  2014      8   27\n",
      "3  Greater Mumbai, India  Signature    Bills      F  123424  2014      4   12\n",
      "4       Bengaluru, India       Gold    Bills      F  171574  2015      5    5\n"
     ]
    }
   ],
   "source": [
    "# Convert Date to datetime\n",
    "data['Date'] = pd.to_datetime(data['Date'], format='%d-%b-%y')\n",
    "\n",
    "# Extract features from Date\n",
    "data['Year'] = data['Date'].dt.year\n",
    "data['Month'] = data['Date'].dt.month\n",
    "data['Day'] = data['Date'].dt.day\n",
    "\n",
    "# Drop original Date column\n",
    "data = data.drop(columns=['Date'])\n",
    "print(data.head())\n"
   ]
  },
  {
   "cell_type": "code",
   "execution_count": 21,
   "id": "435a9b39-5d16-4e99-a87f-b376ced9f4cb",
   "metadata": {},
   "outputs": [
    {
     "name": "stdout",
     "output_type": "stream",
     "text": [
      "       City  Card Type  Exp Type  Gender  Amount  Year  Month  Day\n",
      "26047   267          3         5       0  128191  2014      6   22\n",
      "26048   584          2         5       1  246316  2014      8    3\n",
      "26049   193          3         5       1  265019  2015      1   16\n",
      "26050   237          3         5       1   88174  2014      9   14\n",
      "26051   193          2         0       1  184410  2013     10   19\n"
     ]
    }
   ],
   "source": [
    "# Encode categorical variables\n",
    "label_encoders = {}\n",
    "categorical_columns = ['City', 'Card Type', 'Exp Type', 'Gender']\n",
    "\n",
    "for col in categorical_columns:\n",
    "    label_encoders[col] = LabelEncoder()\n",
    "    data[col] = label_encoders[col].fit_transform(data[col])\n",
    "\n",
    "\n",
    "print(data.tail())"
   ]
  },
  {
   "cell_type": "code",
   "execution_count": 24,
   "id": "9ee3c192-4046-4eff-a7f8-47a4114454b9",
   "metadata": {},
   "outputs": [
    {
     "name": "stdout",
     "output_type": "stream",
     "text": [
      "       City  Card Type  Exp Type  Gender  Year  Month  Day\n",
      "0       126          0         0       0  2014     10   29\n",
      "1       170          1         0       0  2014      8   22\n",
      "2        71          3         0       0  2014      8   27\n",
      "3       170          2         0       0  2014      4   12\n",
      "4        71          0         0       0  2015      5    5\n",
      "...     ...        ...       ...     ...   ...    ...  ...\n",
      "26047   267          3         5       0  2014      6   22\n",
      "26048   584          2         5       1  2014      8    3\n",
      "26049   193          3         5       1  2015      1   16\n",
      "26050   237          3         5       1  2014      9   14\n",
      "26051   193          2         0       1  2013     10   19\n",
      "\n",
      "[26052 rows x 7 columns]\n",
      "0         82475\n",
      "1         32555\n",
      "2        101738\n",
      "3        123424\n",
      "4        171574\n",
      "          ...  \n",
      "26047    128191\n",
      "26048    246316\n",
      "26049    265019\n",
      "26050     88174\n",
      "26051    184410\n",
      "Name: Amount, Length: 26052, dtype: int64\n"
     ]
    }
   ],
   "source": [
    "# Split data into features and target variable\n",
    "X = data.drop(columns=['Amount'])\n",
    "y = data['Amount']\n",
    "\n",
    "print(X)\n",
    "print(y)"
   ]
  },
  {
   "cell_type": "code",
   "execution_count": 25,
   "id": "e2514111-0148-4ef8-9487-6aa98edd184a",
   "metadata": {},
   "outputs": [
    {
     "name": "stdout",
     "output_type": "stream",
     "text": [
      "[[-0.47067387 -1.35973352 -1.42030018 ... -0.14883968  0.97496339\n",
      "   1.52775611]\n",
      " [-0.29003652 -0.46995713 -1.42030018 ... -0.14883968  0.44014745\n",
      "   0.7258042 ]\n",
      " [-0.69647055  1.30959565 -1.42030018 ... -0.14883968  0.44014745\n",
      "   1.29862699]\n",
      " ...\n",
      " [-0.19561245  1.30959565  1.99534279 ...  1.46211639 -1.43170836\n",
      "   0.03841686]\n",
      " [-0.01497511  1.30959565  1.99534279 ... -0.14883968  0.70755542\n",
      "  -0.19071226]\n",
      " [-0.19561245  0.41981926 -1.42030018 ... -1.75979575  0.97496339\n",
      "   0.38211053]]\n"
     ]
    }
   ],
   "source": [
    "# Normalize the features\n",
    "scaler = StandardScaler()\n",
    "X_scaled = scaler.fit_transform(X)\n",
    "\n",
    "print(X_scaled)"
   ]
  },
  {
   "cell_type": "code",
   "execution_count": 28,
   "id": "7043342a-e5d0-4033-a5cd-fc8e3fad9f17",
   "metadata": {},
   "outputs": [
    {
     "name": "stdout",
     "output_type": "stream",
     "text": [
      "[[-0.71740367]\n",
      " [-1.2017757 ]\n",
      " [-0.53049544]\n",
      " ...\n",
      " [ 1.05381445]\n",
      " [-0.66210647]\n",
      " [ 0.27166811]]\n"
     ]
    }
   ],
   "source": [
    "y_scaled = scaler.fit_transform(y.values.reshape(-1, 1))\n",
    "print(y_scaled)"
   ]
  },
  {
   "cell_type": "code",
   "execution_count": 30,
   "id": "99c976c6-c8e7-4360-8493-2c158d55c9e6",
   "metadata": {},
   "outputs": [
    {
     "name": "stdout",
     "output_type": "stream",
     "text": [
      "############################################################\n",
      "[[-0.15455851 -1.35973352 -1.42030018 ... -1.75979575  1.24237136\n",
      "   0.95493332]\n",
      " [ 0.00965726  0.41981926 -0.73717159 ... -0.14883968  0.97496339\n",
      "  -1.10722872]\n",
      " [-0.29003652 -0.46995713 -1.42030018 ...  1.46211639 -1.43170836\n",
      "  -0.99266416]\n",
      " ...\n",
      " [-0.29003652  1.30959565  0.6290856  ... -0.14883968  1.50977933\n",
      "  -0.19071226]\n",
      " [-0.96332118 -0.46995713  1.3122142  ... -0.14883968 -0.89689241\n",
      "  -1.22179328]\n",
      " [ 0.24366473  1.30959565 -0.73717159 ...  1.46211639 -0.36207647\n",
      "  -1.56548695]]\n",
      "############################################################\n",
      "[[ 2.30867804  0.41981926  0.6290856  ... -0.14883968 -1.16430039\n",
      "  -1.68005151]\n",
      " [-0.47067387  0.41981926  1.3122142  ... -0.14883968  1.24237136\n",
      "  -0.64897049]\n",
      " [-0.95511039  0.41981926 -0.05404299 ... -0.14883968 -0.36207647\n",
      "  -0.19071226]\n",
      " ...\n",
      " [-0.29003652  1.30959565 -0.05404299 ... -1.75979575  1.50977933\n",
      "   1.41319155]\n",
      " [ 0.24366473 -0.46995713 -1.42030018 ...  1.46211639 -0.89689241\n",
      "   1.52775611]\n",
      " [ 1.98435189  1.30959565 -0.73717159 ...  1.46211639 -0.62948444\n",
      "   0.49667509]]\n",
      "############################################################\n",
      "[[-1.10842347]\n",
      " [ 0.09928523]\n",
      " [-1.13384524]\n",
      " ...\n",
      " [ 1.34011015]\n",
      " [-0.98914492]\n",
      " [-0.90843565]]\n",
      "############################################################\n",
      "[[-0.44794261]\n",
      " [-0.09417249]\n",
      " [-1.19608976]\n",
      " ...\n",
      " [-0.28054705]\n",
      " [-1.10676426]\n",
      " [ 0.28594118]]\n"
     ]
    }
   ],
   "source": [
    "# Split data into training and testing sets\n",
    "X_train, X_test, y_train, y_test = train_test_split(X_scaled, y_scaled, test_size=0.2, random_state=42)\n",
    "\n",
    "print(\"############################################################\")\n",
    "print(X_train)\n",
    "print(\"############################################################\")\n",
    "print(X_test)\n",
    "print(\"############################################################\")\n",
    "print(y_train)\n",
    "print(\"############################################################\")\n",
    "print(y_test)"
   ]
  },
  {
   "cell_type": "code",
   "execution_count": 34,
   "id": "5190dd23-9035-434a-9ea5-596342c7181d",
   "metadata": {},
   "outputs": [
    {
     "name": "stderr",
     "output_type": "stream",
     "text": [
      "WARNING:absl:At this time, the v2.11+ optimizer `tf.keras.optimizers.Adam` runs slowly on M1/M2 Macs, please use the legacy Keras optimizer instead, located at `tf.keras.optimizers.legacy.Adam`.\n",
      "WARNING:absl:There is a known slowdown when using v2.11+ Keras optimizers on M1/M2 Macs. Falling back to the legacy Keras optimizer, i.e., `tf.keras.optimizers.legacy.Adam`.\n"
     ]
    },
    {
     "name": "stdout",
     "output_type": "stream",
     "text": [
      "Epoch 1/50\n",
      "652/652 [==============================] - 1s 761us/step - loss: 0.9899 - val_loss: 0.9718\n",
      "Epoch 2/50\n",
      "652/652 [==============================] - 0s 630us/step - loss: 0.9766 - val_loss: 0.9785\n",
      "Epoch 3/50\n",
      "652/652 [==============================] - 0s 629us/step - loss: 0.9740 - val_loss: 0.9709\n",
      "Epoch 4/50\n",
      "652/652 [==============================] - 0s 627us/step - loss: 0.9697 - val_loss: 0.9656\n",
      "Epoch 5/50\n",
      "652/652 [==============================] - 0s 627us/step - loss: 0.9676 - val_loss: 0.9735\n",
      "Epoch 6/50\n",
      "652/652 [==============================] - 0s 626us/step - loss: 0.9668 - val_loss: 0.9984\n",
      "Epoch 7/50\n",
      "652/652 [==============================] - 0s 625us/step - loss: 0.9654 - val_loss: 0.9728\n",
      "Epoch 8/50\n",
      "652/652 [==============================] - 0s 627us/step - loss: 0.9636 - val_loss: 0.9697\n",
      "Epoch 9/50\n",
      "652/652 [==============================] - 0s 625us/step - loss: 0.9623 - val_loss: 0.9729\n",
      "Epoch 10/50\n",
      "652/652 [==============================] - 0s 627us/step - loss: 0.9624 - val_loss: 0.9711\n",
      "Epoch 11/50\n",
      "652/652 [==============================] - 0s 627us/step - loss: 0.9613 - val_loss: 0.9904\n",
      "Epoch 12/50\n",
      "652/652 [==============================] - 0s 625us/step - loss: 0.9595 - val_loss: 0.9944\n",
      "Epoch 13/50\n",
      "652/652 [==============================] - 0s 624us/step - loss: 0.9596 - val_loss: 0.9766\n",
      "Epoch 14/50\n",
      "652/652 [==============================] - 0s 629us/step - loss: 0.9571 - val_loss: 1.0017\n",
      "Epoch 15/50\n",
      "652/652 [==============================] - 0s 634us/step - loss: 0.9573 - val_loss: 0.9770\n",
      "Epoch 16/50\n",
      "652/652 [==============================] - 0s 624us/step - loss: 0.9556 - val_loss: 0.9748\n",
      "Epoch 17/50\n",
      "652/652 [==============================] - 0s 628us/step - loss: 0.9551 - val_loss: 0.9825\n",
      "Epoch 18/50\n",
      "652/652 [==============================] - 0s 629us/step - loss: 0.9548 - val_loss: 0.9730\n",
      "Epoch 19/50\n",
      "652/652 [==============================] - 0s 634us/step - loss: 0.9519 - val_loss: 0.9774\n",
      "Epoch 20/50\n",
      "652/652 [==============================] - 0s 630us/step - loss: 0.9524 - val_loss: 0.9771\n",
      "Epoch 21/50\n",
      "652/652 [==============================] - 0s 627us/step - loss: 0.9509 - val_loss: 0.9966\n",
      "Epoch 22/50\n",
      "652/652 [==============================] - 0s 627us/step - loss: 0.9494 - val_loss: 0.9776\n",
      "Epoch 23/50\n",
      "652/652 [==============================] - 0s 630us/step - loss: 0.9491 - val_loss: 0.9917\n",
      "Epoch 24/50\n",
      "652/652 [==============================] - 0s 628us/step - loss: 0.9473 - val_loss: 0.9790\n",
      "Epoch 25/50\n",
      "652/652 [==============================] - 0s 632us/step - loss: 0.9456 - val_loss: 0.9964\n",
      "Epoch 26/50\n",
      "652/652 [==============================] - 0s 629us/step - loss: 0.9460 - val_loss: 0.9854\n",
      "Epoch 27/50\n",
      "652/652 [==============================] - 0s 634us/step - loss: 0.9436 - val_loss: 0.9847\n",
      "Epoch 28/50\n",
      "652/652 [==============================] - 0s 630us/step - loss: 0.9436 - val_loss: 0.9962\n",
      "Epoch 29/50\n",
      "652/652 [==============================] - 0s 629us/step - loss: 0.9420 - val_loss: 0.9844\n",
      "Epoch 30/50\n",
      "652/652 [==============================] - 0s 631us/step - loss: 0.9430 - val_loss: 0.9922\n",
      "Epoch 31/50\n",
      "652/652 [==============================] - 0s 631us/step - loss: 0.9388 - val_loss: 0.9886\n",
      "Epoch 32/50\n",
      "652/652 [==============================] - 0s 628us/step - loss: 0.9382 - val_loss: 1.0022\n",
      "Epoch 33/50\n",
      "652/652 [==============================] - 0s 632us/step - loss: 0.9390 - val_loss: 0.9985\n",
      "Epoch 34/50\n",
      "652/652 [==============================] - 0s 633us/step - loss: 0.9388 - val_loss: 1.0024\n",
      "Epoch 35/50\n",
      "652/652 [==============================] - 0s 636us/step - loss: 0.9391 - val_loss: 0.9894\n",
      "Epoch 36/50\n",
      "652/652 [==============================] - 0s 631us/step - loss: 0.9344 - val_loss: 0.9917\n",
      "Epoch 37/50\n",
      "652/652 [==============================] - 0s 631us/step - loss: 0.9356 - val_loss: 0.9940\n",
      "Epoch 38/50\n",
      "652/652 [==============================] - 0s 641us/step - loss: 0.9341 - val_loss: 0.9895\n",
      "Epoch 39/50\n",
      "652/652 [==============================] - 0s 733us/step - loss: 0.9325 - val_loss: 1.0001\n",
      "Epoch 40/50\n",
      "652/652 [==============================] - 0s 650us/step - loss: 0.9339 - val_loss: 0.9968\n",
      "Epoch 41/50\n",
      "652/652 [==============================] - 0s 636us/step - loss: 0.9309 - val_loss: 0.9939\n",
      "Epoch 42/50\n",
      "652/652 [==============================] - 0s 635us/step - loss: 0.9285 - val_loss: 1.0011\n",
      "Epoch 43/50\n",
      "652/652 [==============================] - 0s 632us/step - loss: 0.9296 - val_loss: 1.0018\n",
      "Epoch 44/50\n",
      "652/652 [==============================] - 0s 639us/step - loss: 0.9281 - val_loss: 1.0151\n",
      "Epoch 45/50\n",
      "652/652 [==============================] - 0s 634us/step - loss: 0.9276 - val_loss: 0.9936\n",
      "Epoch 46/50\n",
      "652/652 [==============================] - 0s 642us/step - loss: 0.9257 - val_loss: 1.0004\n",
      "Epoch 47/50\n",
      "652/652 [==============================] - 0s 654us/step - loss: 0.9271 - val_loss: 1.0177\n",
      "Epoch 48/50\n",
      "652/652 [==============================] - 0s 662us/step - loss: 0.9242 - val_loss: 1.0072\n",
      "Epoch 49/50\n",
      "652/652 [==============================] - 0s 662us/step - loss: 0.9255 - val_loss: 1.0088\n",
      "Epoch 50/50\n",
      "652/652 [==============================] - 0s 656us/step - loss: 0.9241 - val_loss: 1.0034\n",
      "{'loss': [0.9898880124092102, 0.9766437411308289, 0.9740154147148132, 0.9697133302688599, 0.967647910118103, 0.9668114185333252, 0.9653543829917908, 0.9636266827583313, 0.9623014330863953, 0.962408721446991, 0.9613004326820374, 0.9594832062721252, 0.9595527648925781, 0.9571160674095154, 0.9572803378105164, 0.9555842876434326, 0.9551310539245605, 0.9548444151878357, 0.9519268274307251, 0.9523735046386719, 0.9508749842643738, 0.9493650197982788, 0.9490829706192017, 0.9473097920417786, 0.9455936551094055, 0.9459550380706787, 0.9435915946960449, 0.9435880184173584, 0.9419859647750854, 0.9429906010627747, 0.9387840032577515, 0.9381584525108337, 0.938999354839325, 0.9388428330421448, 0.9390895962715149, 0.934386134147644, 0.9355708956718445, 0.9341010451316833, 0.9324632883071899, 0.9338570833206177, 0.930926501750946, 0.9285488724708557, 0.9296262860298157, 0.9281284213066101, 0.9275573492050171, 0.9256505966186523, 0.9271475076675415, 0.9242351055145264, 0.9255388975143433, 0.9241417050361633], 'val_loss': [0.9717660546302795, 0.9785052537918091, 0.9709175825119019, 0.9656078815460205, 0.9735285043716431, 0.9984362125396729, 0.9727867841720581, 0.9697211980819702, 0.9728947877883911, 0.9711194634437561, 0.9904378056526184, 0.9944295883178711, 0.9766232371330261, 1.0016919374465942, 0.97700035572052, 0.9747977256774902, 0.9824813008308411, 0.9730295538902283, 0.977414071559906, 0.9771345257759094, 0.9966344237327576, 0.9775708317756653, 0.9916643500328064, 0.978988528251648, 0.9963518977165222, 0.9853882789611816, 0.9847243428230286, 0.9962331056594849, 0.9844285249710083, 0.9921978116035461, 0.9885944128036499, 1.0021907091140747, 0.9985092282295227, 1.002355933189392, 0.9893985390663147, 0.9916976094245911, 0.9940118789672852, 0.9894657135009766, 1.000059723854065, 0.9967735409736633, 0.993879497051239, 1.0010836124420166, 1.0017993450164795, 1.015109658241272, 0.9935922026634216, 1.0004204511642456, 1.0176788568496704, 1.0072075128555298, 1.0088119506835938, 1.0034420490264893]}\n"
     ]
    },
    {
     "data": {
      "image/png": "[encoded data removed]",
      "text/plain": [
       "<Figure size 640x480 with 1 Axes>"
      ]
     },
     "metadata": {},
     "output_type": "display_data"
    },
    {
     "name": "stdout",
     "output_type": "stream",
     "text": [
      "163/163 [==============================] - 0s 407us/step - loss: 1.0034\n",
      "Test Loss: 1.0034420490264893\n",
      "163/163 [==============================] - 0s 375us/step\n",
      "Predicted amounts: [-0.19159691  0.05350788 -0.17331693  0.03657145 -0.11463541]\n",
      "Actual amounts: [[-0.44794261]\n",
      " [-0.09417249]\n",
      " [-1.19608976]\n",
      " [-0.72808663]\n",
      " [ 0.29119048]]\n"
     ]
    }
   ],
   "source": [
    "# Build the neural network\n",
    "model = Sequential([\n",
    "    Dense(64, input_dim=X_train.shape[1], activation='relu'),\n",
    "    Dense(32, activation='relu'),\n",
    "    Dense(16, activation='relu'),\n",
    "    Dense(1)  # Output layer for regression\n",
    "])\n",
    "\n",
    "# Compile the model\n",
    "model.compile(optimizer=Adam(learning_rate=0.001), loss='mean_squared_error')\n",
    "\n",
    "# Train the model\n",
    "history = model.fit(X_train, y_train, validation_data=(X_test, y_test), epochs=50, batch_size=32)\n",
    "\n",
    "# Print the training history\n",
    "print(history.history)\n",
    "\n",
    "# Plot the training and validation loss\n",
    "plt.plot(history.history['loss'], label='Training Loss')\n",
    "plt.plot(history.history['val_loss'], label='Validation Loss')\n",
    "plt.xlabel('Epochs')\n",
    "plt.ylabel('Loss')\n",
    "plt.legend()\n",
    "\n",
    "\n",
    "plt.savefig('loss_plot.png')\n",
    "plt.show()\n",
    "\n",
    "# Evaluate the model\n",
    "loss = model.evaluate(X_test, y_test)\n",
    "print(f'Test Loss: {loss}')\n",
    "\n",
    "# Predict on the test set\n",
    "y_pred = model.predict(X_test)\n",
    "\n",
    "# Example prediction\n",
    "# Example prediction\n",
    "print(f'Predicted amounts: {y_pred[:5].flatten()}')\n",
    "print(f'Actual amounts: {y_test[:5]}')\n"
   ]
  },
  {
   "cell_type": "code",
   "execution_count": 35,
   "id": "5cc8990f-b0d2-45f6-8930-e4215e877252",
   "metadata": {},
   "outputs": [
    {
     "name": "stdout",
     "output_type": "stream",
     "text": [
      "Predicted amounts (original scale): [136665.31 161926.12 138549.28 160180.64 144597.06]\n",
      "Actual amounts (original scale): [110246. 146706.  33141.  81374. 186422.]\n"
     ]
    },
    {
     "data": {
      "text/plain": [
       "<Figure size 640x480 with 0 Axes>"
      ]
     },
     "metadata": {},
     "output_type": "display_data"
    }
   ],
   "source": [
    "# Inverse transform the scaled predictions and actual values\n",
    "y_pred_original = scaler.inverse_transform(y_pred)\n",
    "y_test_original = scaler.inverse_transform(y_test)\n",
    "\n",
    "# Print the original (unscaled) predicted and actual amounts\n",
    "print(f'Predicted amounts (original scale): {y_pred_original[:5].flatten()}')\n",
    "print(f'Actual amounts (original scale): {y_test_original[:5].flatten()}')\n",
    "\n"
   ]
  },
  {
   "cell_type": "code",
   "execution_count": null,
   "id": "0bb8c233-513a-4963-bfef-55e2faf7bcc8",
   "metadata": {},
   "outputs": [],
   "source": [
    "\n",
    "\n",
    "\n",
    "\n",
    "\n",
    "\n",
    "\n",
    "\n"
   ]
  }
 ],
 "metadata": {
  "kernelspec": {
   "display_name": "Python 3 (ipykernel)",
   "language": "python",
   "name": "python3"
  },
  "language_info": {
   "codemirror_mode": {
    "name": "ipython",
    "version": 3
   },
   "file_extension": ".py",
   "mimetype": "text/x-python",
   "name": "python",
   "nbconvert_exporter": "python",
   "pygments_lexer": "ipython3",
   "version": "3.11.7"
  }
 },
 "nbformat": 4,
 "nbformat_minor": 5
}
