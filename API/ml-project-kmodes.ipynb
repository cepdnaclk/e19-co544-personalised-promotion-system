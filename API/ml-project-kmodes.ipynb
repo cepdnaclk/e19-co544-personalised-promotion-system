{
 "cells": [
  {
   "cell_type": "code",
   "execution_count": 1,
   "metadata": {
    "_cell_guid": "b1076dfc-b9ad-4769-8c92-a6c4dae69d19",
    "_uuid": "8f2839f25d086af736a60e9eeb907d3b93b6e0e5",
    "execution": {
     "iopub.execute_input": "2024-06-21T19:12:50.019956Z",
     "iopub.status.busy": "2024-06-21T19:12:50.019555Z",
     "iopub.status.idle": "2024-06-21T19:12:51.129025Z",
     "shell.execute_reply": "2024-06-21T19:12:51.127954Z",
     "shell.execute_reply.started": "2024-06-21T19:12:50.019923Z"
    }
   },
   "outputs": [
    {
     "name": "stdout",
     "output_type": "stream",
     "text": [
      "/kaggle/input/analyzing-credit-card-spending-habits-in-india/Credit card transactions - India - Simple.csv\n",
      "/kaggle/input/newdata/Credit card transactions.csv\n"
     ]
    }
   ],
   "source": [
    "# This Python 3 environment comes with many helpful analytics libraries installed\n",
    "# It is defined by the kaggle/python Docker image: https://github.com/kaggle/docker-python\n",
    "# For example, here's several helpful packages to load\n",
    "\n",
    "import numpy as np # linear algebra\n",
    "import pandas as pd # data processing, CSV file I/O (e.g. pd.read_csv)\n",
    "\n",
    "# Input data files are available in the read-only \"../input/\" directory\n",
    "# For example, running this (by clicking run or pressing Shift+Enter) will list all files under the input directory\n",
    "\n",
    "import os\n",
    "for dirname, _, filenames in os.walk('/kaggle/input'):\n",
    "    for filename in filenames:\n",
    "        print(os.path.join(dirname, filename))\n",
    "\n",
    "# You can write up to 20GB to the current directory (/kaggle/working/) that gets preserved as output when you create a version using \"Save & Run All\" \n",
    "# You can also write temporary files to /kaggle/temp/, but they won't be saved outside of the current session"
   ]
  },
  {
   "cell_type": "code",
   "execution_count": 2,
   "metadata": {
    "execution": {
     "iopub.execute_input": "2024-06-21T19:12:51.131441Z",
     "iopub.status.busy": "2024-06-21T19:12:51.130984Z",
     "iopub.status.idle": "2024-06-21T19:12:52.500909Z",
     "shell.execute_reply": "2024-06-21T19:12:52.499790Z",
     "shell.execute_reply.started": "2024-06-21T19:12:51.131412Z"
    }
   },
   "outputs": [],
   "source": [
    "import pandas as pd\n",
    "import numpy as np\n",
    "import matplotlib.pyplot as plt\n",
    "import seaborn as sns"
   ]
  },
  {
   "cell_type": "code",
   "execution_count": 3,
   "metadata": {
    "execution": {
     "iopub.execute_input": "2024-06-21T19:12:52.502729Z",
     "iopub.status.busy": "2024-06-21T19:12:52.502308Z",
     "iopub.status.idle": "2024-06-21T19:12:52.566064Z",
     "shell.execute_reply": "2024-06-21T19:12:52.564923Z",
     "shell.execute_reply.started": "2024-06-21T19:12:52.502693Z"
    }
   },
   "outputs": [],
   "source": [
    "# Importing the dataset\n",
    "data=pd.read_csv(\"/kaggle/input/newdata/Credit card transactions.csv\")"
   ]
  },
  {
   "cell_type": "markdown",
   "metadata": {},
   "source": [
    "# **Checking the dataset**"
   ]
  },
  {
   "cell_type": "code",
   "execution_count": 4,
   "metadata": {
    "execution": {
     "iopub.execute_input": "2024-06-21T19:12:52.569149Z",
     "iopub.status.busy": "2024-06-21T19:12:52.568227Z",
     "iopub.status.idle": "2024-06-21T19:12:52.575938Z",
     "shell.execute_reply": "2024-06-21T19:12:52.574941Z",
     "shell.execute_reply.started": "2024-06-21T19:12:52.569113Z"
    }
   },
   "outputs": [
    {
     "data": {
      "text/plain": [
       "(26052, 7)"
      ]
     },
     "execution_count": 4,
     "metadata": {},
     "output_type": "execute_result"
    }
   ],
   "source": [
    "# Check the size of the dataset\n",
    "data.shape\n"
   ]
  },
  {
   "cell_type": "markdown",
   "metadata": {},
   "source": [
    "This dataset has 26052 Rows and 7 Columns"
   ]
  },
  {
   "cell_type": "code",
   "execution_count": 5,
   "metadata": {
    "execution": {
     "iopub.execute_input": "2024-06-21T19:12:52.577753Z",
     "iopub.status.busy": "2024-06-21T19:12:52.577340Z",
     "iopub.status.idle": "2024-06-21T19:12:52.610553Z",
     "shell.execute_reply": "2024-06-21T19:12:52.609266Z",
     "shell.execute_reply.started": "2024-06-21T19:12:52.577719Z"
    }
   },
   "outputs": [
    {
     "data": {
      "text/html": [
       "<div>\n",
       "<style scoped>\n",
       "    .dataframe tbody tr th:only-of-type {\n",
       "        vertical-align: middle;\n",
       "    }\n",
       "\n",
       "    .dataframe tbody tr th {\n",
       "        vertical-align: top;\n",
       "    }\n",
       "\n",
       "    .dataframe thead th {\n",
       "        text-align: right;\n",
       "    }\n",
       "</style>\n",
       "<table border=\"1\" class=\"dataframe\">\n",
       "  <thead>\n",
       "    <tr style=\"text-align: right;\">\n",
       "      <th></th>\n",
       "      <th>index</th>\n",
       "      <th>City</th>\n",
       "      <th>Date</th>\n",
       "      <th>Card Type</th>\n",
       "      <th>Exp Type</th>\n",
       "      <th>Gender</th>\n",
       "      <th>Amount</th>\n",
       "    </tr>\n",
       "  </thead>\n",
       "  <tbody>\n",
       "    <tr>\n",
       "      <th>0</th>\n",
       "      <td>0</td>\n",
       "      <td>Delhi, India</td>\n",
       "      <td>29-Oct-14</td>\n",
       "      <td>Gold</td>\n",
       "      <td>Bills</td>\n",
       "      <td>F</td>\n",
       "      <td>82475</td>\n",
       "    </tr>\n",
       "    <tr>\n",
       "      <th>1</th>\n",
       "      <td>1</td>\n",
       "      <td>Greater Mumbai, India</td>\n",
       "      <td>22-Aug-14</td>\n",
       "      <td>Platinum</td>\n",
       "      <td>Bills</td>\n",
       "      <td>F</td>\n",
       "      <td>32555</td>\n",
       "    </tr>\n",
       "    <tr>\n",
       "      <th>2</th>\n",
       "      <td>2</td>\n",
       "      <td>Bengaluru, India</td>\n",
       "      <td>27-Aug-14</td>\n",
       "      <td>Silver</td>\n",
       "      <td>Bills</td>\n",
       "      <td>F</td>\n",
       "      <td>101738</td>\n",
       "    </tr>\n",
       "    <tr>\n",
       "      <th>3</th>\n",
       "      <td>3</td>\n",
       "      <td>Greater Mumbai, India</td>\n",
       "      <td>12-Apr-14</td>\n",
       "      <td>Signature</td>\n",
       "      <td>Bills</td>\n",
       "      <td>F</td>\n",
       "      <td>123424</td>\n",
       "    </tr>\n",
       "    <tr>\n",
       "      <th>4</th>\n",
       "      <td>4</td>\n",
       "      <td>Bengaluru, India</td>\n",
       "      <td>5-May-15</td>\n",
       "      <td>Gold</td>\n",
       "      <td>Bills</td>\n",
       "      <td>F</td>\n",
       "      <td>171574</td>\n",
       "    </tr>\n",
       "  </tbody>\n",
       "</table>\n",
       "</div>"
      ],
      "text/plain": [
       "   index                   City       Date  Card Type Exp Type Gender  Amount\n",
       "0      0           Delhi, India  29-Oct-14       Gold    Bills      F   82475\n",
       "1      1  Greater Mumbai, India  22-Aug-14   Platinum    Bills      F   32555\n",
       "2      2       Bengaluru, India  27-Aug-14     Silver    Bills      F  101738\n",
       "3      3  Greater Mumbai, India  12-Apr-14  Signature    Bills      F  123424\n",
       "4      4       Bengaluru, India   5-May-15       Gold    Bills      F  171574"
      ]
     },
     "execution_count": 5,
     "metadata": {},
     "output_type": "execute_result"
    }
   ],
   "source": [
    "# Get top 5 rows\n",
    "data.head()"
   ]
  },
  {
   "cell_type": "markdown",
   "metadata": {},
   "source": [
    "Column Names are:\n",
    "* index - index\n",
    "* City - The city in which the transaction took place\n",
    "* Date - The date of the transaction\n",
    "* Card Type - The type of credit card used for the transaction (Gold, Platinum, Silver, Signature)\n",
    "* Exp Type - The type of expense associated with the transaction (Bills, Food, Entertainment, Grocery, Fuel, Travel)\n",
    "* Gender - The gender of the cardholder (Male, Female)\n",
    "* Amount - The amount of the transaction"
   ]
  },
  {
   "cell_type": "code",
   "execution_count": 6,
   "metadata": {
    "execution": {
     "iopub.execute_input": "2024-06-21T19:12:52.612259Z",
     "iopub.status.busy": "2024-06-21T19:12:52.611851Z",
     "iopub.status.idle": "2024-06-21T19:12:52.631458Z",
     "shell.execute_reply": "2024-06-21T19:12:52.630251Z",
     "shell.execute_reply.started": "2024-06-21T19:12:52.612201Z"
    }
   },
   "outputs": [
    {
     "data": {
      "text/plain": [
       "index        0\n",
       "City         0\n",
       "Date         0\n",
       "Card Type    0\n",
       "Exp Type     0\n",
       "Gender       0\n",
       "Amount       0\n",
       "dtype: int64"
      ]
     },
     "execution_count": 6,
     "metadata": {},
     "output_type": "execute_result"
    }
   ],
   "source": [
    "# Check for null values\n",
    "data.isnull().sum()"
   ]
  },
  {
   "cell_type": "markdown",
   "metadata": {},
   "source": [
    "There is no null values\n"
   ]
  },
  {
   "cell_type": "code",
   "execution_count": 7,
   "metadata": {
    "execution": {
     "iopub.execute_input": "2024-06-21T19:12:52.633222Z",
     "iopub.status.busy": "2024-06-21T19:12:52.632802Z",
     "iopub.status.idle": "2024-06-21T19:12:52.659433Z",
     "shell.execute_reply": "2024-06-21T19:12:52.658320Z",
     "shell.execute_reply.started": "2024-06-21T19:12:52.633187Z"
    }
   },
   "outputs": [
    {
     "data": {
      "text/plain": [
       "0"
      ]
     },
     "execution_count": 7,
     "metadata": {},
     "output_type": "execute_result"
    }
   ],
   "source": [
    "# Checking for duplicate\n",
    "data.duplicated().sum()"
   ]
  },
  {
   "cell_type": "markdown",
   "metadata": {},
   "source": [
    "There is no duplicates\n"
   ]
  },
  {
   "cell_type": "markdown",
   "metadata": {},
   "source": [
    "## **Date Feature Engineering**"
   ]
  },
  {
   "cell_type": "code",
   "execution_count": 8,
   "metadata": {
    "execution": {
     "iopub.execute_input": "2024-06-21T19:12:52.661356Z",
     "iopub.status.busy": "2024-06-21T19:12:52.660917Z",
     "iopub.status.idle": "2024-06-21T19:12:52.791573Z",
     "shell.execute_reply": "2024-06-21T19:12:52.790549Z",
     "shell.execute_reply.started": "2024-06-21T19:12:52.661321Z"
    }
   },
   "outputs": [],
   "source": [
    "# Spliting City into City and Country and taking only City\n",
    "data[\"City\"]=data[\"City\"].str.split(\",\",expand=True)[0]"
   ]
  },
  {
   "cell_type": "markdown",
   "metadata": {},
   "source": [
    "----"
   ]
  },
  {
   "cell_type": "code",
   "execution_count": 9,
   "metadata": {
    "execution": {
     "iopub.execute_input": "2024-06-21T19:12:52.794145Z",
     "iopub.status.busy": "2024-06-21T19:12:52.793175Z",
     "iopub.status.idle": "2024-06-21T19:12:52.854358Z",
     "shell.execute_reply": "2024-06-21T19:12:52.853040Z",
     "shell.execute_reply.started": "2024-06-21T19:12:52.794106Z"
    }
   },
   "outputs": [
    {
     "data": {
      "text/html": [
       "<div>\n",
       "<style scoped>\n",
       "    .dataframe tbody tr th:only-of-type {\n",
       "        vertical-align: middle;\n",
       "    }\n",
       "\n",
       "    .dataframe tbody tr th {\n",
       "        vertical-align: top;\n",
       "    }\n",
       "\n",
       "    .dataframe thead th {\n",
       "        text-align: right;\n",
       "    }\n",
       "</style>\n",
       "<table border=\"1\" class=\"dataframe\">\n",
       "  <thead>\n",
       "    <tr style=\"text-align: right;\">\n",
       "      <th></th>\n",
       "      <th>index</th>\n",
       "      <th>City</th>\n",
       "      <th>Date</th>\n",
       "      <th>Card Type</th>\n",
       "      <th>Exp Type</th>\n",
       "      <th>Gender</th>\n",
       "      <th>Amount</th>\n",
       "      <th>Month</th>\n",
       "      <th>Day</th>\n",
       "      <th>MonthName</th>\n",
       "      <th>DayName</th>\n",
       "      <th>Year</th>\n",
       "    </tr>\n",
       "  </thead>\n",
       "  <tbody>\n",
       "    <tr>\n",
       "      <th>0</th>\n",
       "      <td>0</td>\n",
       "      <td>Delhi</td>\n",
       "      <td>2014-10-29</td>\n",
       "      <td>Gold</td>\n",
       "      <td>Bills</td>\n",
       "      <td>F</td>\n",
       "      <td>82475</td>\n",
       "      <td>10</td>\n",
       "      <td>2</td>\n",
       "      <td>October</td>\n",
       "      <td>Wednesday</td>\n",
       "      <td>2014</td>\n",
       "    </tr>\n",
       "    <tr>\n",
       "      <th>1</th>\n",
       "      <td>1</td>\n",
       "      <td>Greater Mumbai</td>\n",
       "      <td>2014-08-22</td>\n",
       "      <td>Platinum</td>\n",
       "      <td>Bills</td>\n",
       "      <td>F</td>\n",
       "      <td>32555</td>\n",
       "      <td>8</td>\n",
       "      <td>4</td>\n",
       "      <td>August</td>\n",
       "      <td>Friday</td>\n",
       "      <td>2014</td>\n",
       "    </tr>\n",
       "    <tr>\n",
       "      <th>2</th>\n",
       "      <td>2</td>\n",
       "      <td>Bengaluru</td>\n",
       "      <td>2014-08-27</td>\n",
       "      <td>Silver</td>\n",
       "      <td>Bills</td>\n",
       "      <td>F</td>\n",
       "      <td>101738</td>\n",
       "      <td>8</td>\n",
       "      <td>2</td>\n",
       "      <td>August</td>\n",
       "      <td>Wednesday</td>\n",
       "      <td>2014</td>\n",
       "    </tr>\n",
       "    <tr>\n",
       "      <th>3</th>\n",
       "      <td>3</td>\n",
       "      <td>Greater Mumbai</td>\n",
       "      <td>2014-04-12</td>\n",
       "      <td>Signature</td>\n",
       "      <td>Bills</td>\n",
       "      <td>F</td>\n",
       "      <td>123424</td>\n",
       "      <td>4</td>\n",
       "      <td>5</td>\n",
       "      <td>April</td>\n",
       "      <td>Saturday</td>\n",
       "      <td>2014</td>\n",
       "    </tr>\n",
       "    <tr>\n",
       "      <th>4</th>\n",
       "      <td>4</td>\n",
       "      <td>Bengaluru</td>\n",
       "      <td>2015-05-05</td>\n",
       "      <td>Gold</td>\n",
       "      <td>Bills</td>\n",
       "      <td>F</td>\n",
       "      <td>171574</td>\n",
       "      <td>5</td>\n",
       "      <td>1</td>\n",
       "      <td>May</td>\n",
       "      <td>Tuesday</td>\n",
       "      <td>2015</td>\n",
       "    </tr>\n",
       "  </tbody>\n",
       "</table>\n",
       "</div>"
      ],
      "text/plain": [
       "   index            City       Date  Card Type Exp Type Gender  Amount  Month  \\\n",
       "0      0           Delhi 2014-10-29       Gold    Bills      F   82475     10   \n",
       "1      1  Greater Mumbai 2014-08-22   Platinum    Bills      F   32555      8   \n",
       "2      2       Bengaluru 2014-08-27     Silver    Bills      F  101738      8   \n",
       "3      3  Greater Mumbai 2014-04-12  Signature    Bills      F  123424      4   \n",
       "4      4       Bengaluru 2015-05-05       Gold    Bills      F  171574      5   \n",
       "\n",
       "   Day MonthName    DayName  Year  \n",
       "0    2   October  Wednesday  2014  \n",
       "1    4    August     Friday  2014  \n",
       "2    2    August  Wednesday  2014  \n",
       "3    5     April   Saturday  2014  \n",
       "4    1       May    Tuesday  2015  "
      ]
     },
     "execution_count": 9,
     "metadata": {},
     "output_type": "execute_result"
    }
   ],
   "source": [
    "# Extract Month and Day from the datetime object\n",
    "data[\"Date\"] = pd.to_datetime(data[\"Date\"], format='%d-%b-%y')\n",
    "data[\"Month\"] = data[\"Date\"].dt.month\n",
    "data[\"Day\"] = data[\"Date\"].dt.dayofweek\n",
    "data[\"MonthName\"] = data[\"Date\"].dt.month_name()\n",
    "data[\"DayName\"] = data[\"Date\"].dt.day_name()\n",
    "data[\"Year\"] = data[\"Date\"].dt.year\n",
    "data.head()\n"
   ]
  },
  {
   "cell_type": "code",
   "execution_count": 10,
   "metadata": {
    "execution": {
     "iopub.execute_input": "2024-06-21T19:12:52.859215Z",
     "iopub.status.busy": "2024-06-21T19:12:52.858870Z",
     "iopub.status.idle": "2024-06-21T19:12:52.866834Z",
     "shell.execute_reply": "2024-06-21T19:12:52.865625Z",
     "shell.execute_reply.started": "2024-06-21T19:12:52.859186Z"
    }
   },
   "outputs": [
    {
     "name": "stdout",
     "output_type": "stream",
     "text": [
      "Number of unique values in Day column: 7\n",
      "Number of unique values in Month column: 12\n"
     ]
    }
   ],
   "source": [
    "print(f\"Number of unique values in Day column: {data['Day'].unique().size}\")\n",
    "print(f\"Number of unique values in Month column: {data['Month'].unique().size}\")"
   ]
  },
  {
   "cell_type": "markdown",
   "metadata": {},
   "source": [
    "Since this will also contribute to the complexity of the model, We will reduce the model complexity using cyclic encoding"
   ]
  },
  {
   "cell_type": "markdown",
   "metadata": {},
   "source": [
    "### Cyclic encoding"
   ]
  },
  {
   "cell_type": "markdown",
   "metadata": {},
   "source": [
    "Why Cyclic Encoding? <br>\n",
    "* Unlike one-hot encoding, cyclical encoding ensures that adjacent cyclical values retain their relationships (e.g., December is adjacent to January). <br>\n",
    "* Cyclical encoding requires fewer dimensions than one-hot encoding, leading to more efficient data representation"
   ]
  },
  {
   "cell_type": "code",
   "execution_count": 11,
   "metadata": {
    "execution": {
     "iopub.execute_input": "2024-06-21T19:12:52.868144Z",
     "iopub.status.busy": "2024-06-21T19:12:52.867833Z",
     "iopub.status.idle": "2024-06-21T19:12:53.152685Z",
     "shell.execute_reply": "2024-06-21T19:12:53.151615Z",
     "shell.execute_reply.started": "2024-06-21T19:12:52.868118Z"
    }
   },
   "outputs": [],
   "source": [
    "def encodeCyclic(value, maxValue):\n",
    "    radians = 2 * np.pi * value / maxValue\n",
    "    return np.sin(radians), np.cos(radians)\n",
    "\n",
    "data['MonthSin'], data['MonthCos'] = zip(*data['Month'].apply(lambda x: encodeCyclic(x-1, 12)))\n",
    "\n",
    "data['DaySin'], data['DayCos'] = zip(*data['Day'].apply(lambda x: encodeCyclic(x, 7)))"
   ]
  },
  {
   "cell_type": "code",
   "execution_count": 12,
   "metadata": {
    "execution": {
     "iopub.execute_input": "2024-06-21T19:12:53.154718Z",
     "iopub.status.busy": "2024-06-21T19:12:53.154292Z",
     "iopub.status.idle": "2024-06-21T19:12:53.547491Z",
     "shell.execute_reply": "2024-06-21T19:12:53.546373Z",
     "shell.execute_reply.started": "2024-06-21T19:12:53.154680Z"
    }
   },
   "outputs": [
    {
     "data": {
      "image/png": "[encoded data removed]",
      "text/plain": [
       "<Figure size 640x480 with 1 Axes>"
      ]
     },
     "metadata": {},
     "output_type": "display_data"
    }
   ],
   "source": [
    "plt.plot(data['MonthSin'],data['MonthCos'],marker = 'o',markersize = 10, linewidth = 0)\n",
    "plt.title('Month Cyclic Encoded')\n",
    "plt.show()"
   ]
  },
  {
   "cell_type": "code",
   "execution_count": 13,
   "metadata": {
    "execution": {
     "iopub.execute_input": "2024-06-21T19:12:53.549280Z",
     "iopub.status.busy": "2024-06-21T19:12:53.548929Z",
     "iopub.status.idle": "2024-06-21T19:12:53.912532Z",
     "shell.execute_reply": "2024-06-21T19:12:53.911293Z",
     "shell.execute_reply.started": "2024-06-21T19:12:53.549252Z"
    }
   },
   "outputs": [
    {
     "data": {
      "image/png": "[encoded data removed]",
      "text/plain": [
       "<Figure size 640x480 with 1 Axes>"
      ]
     },
     "metadata": {},
     "output_type": "display_data"
    }
   ],
   "source": [
    "plt.plot(data['DaySin'],data['DayCos'],marker = 'o',markersize = 10, linewidth = 0)\n",
    "plt.title('Day Cyclic Encoded')\n",
    "plt.show()"
   ]
  },
  {
   "cell_type": "markdown",
   "metadata": {},
   "source": [
    "----"
   ]
  },
  {
   "cell_type": "code",
   "execution_count": 14,
   "metadata": {
    "execution": {
     "iopub.execute_input": "2024-06-21T19:12:53.914580Z",
     "iopub.status.busy": "2024-06-21T19:12:53.914135Z",
     "iopub.status.idle": "2024-06-21T19:12:53.923389Z",
     "shell.execute_reply": "2024-06-21T19:12:53.921993Z",
     "shell.execute_reply.started": "2024-06-21T19:12:53.914544Z"
    }
   },
   "outputs": [
    {
     "name": "stdout",
     "output_type": "stream",
     "text": [
      "Number of unique values in City column: 986\n"
     ]
    }
   ],
   "source": [
    "print(f\"Number of unique values in City column: {data['City'].unique().size}\")"
   ]
  },
  {
   "cell_type": "markdown",
   "metadata": {},
   "source": [
    "Since there are 986 values in the city column it will increase the complexity of the model even more leading to overfitting. To avoid that we are going to use city encoding into tiers."
   ]
  },
  {
   "cell_type": "markdown",
   "metadata": {},
   "source": [
    "### Encoding Cities into Tiers"
   ]
  },
  {
   "cell_type": "markdown",
   "metadata": {},
   "source": [
    "The spending paterns are affected by the city/town in which the customer lives. For example a person from highly developed city with high gross income per person will use thier credit card more, meanwhile a person from under developed city may not even know what a credit card is."
   ]
  },
  {
   "attachments": {
    "073f2d25-3ca2-46cd-af74-6942e2da644f.png": {
     "image/png": "[encoded data removed]"
    },
    "097ee65e-72d7-4a51-9eac-90a895be61aa.png": {
     "image/png": "[encoded data removed]"
    },
    "8b9cebd5-7be5-4afd-9b81-a1120112ba32.png": {
     "image/png": "[encoded data removed]"
    }
   },
   "cell_type": "markdown",
   "metadata": {},
   "source": [
    "The classification of Indian cities is a ranking system used by the Government of India to allocate House Rent Allowance (HRA) to public servants employed in cities in India. India has been divided into various categories by the **Pay Commission**. There has been multiple types of classifications.\n",
    "\n",
    "**Tier Classification:** RBI classifies the cities under Tier 1-6 categories based on their population.\n",
    "![image.png](attachment:8b9cebd5-7be5-4afd-9b81-a1120112ba32.png)\n",
    "\n",
    "**Rural, Urban classifications:** <br>\n",
    "![image.png](attachment:097ee65e-72d7-4a51-9eac-90a895be61aa.png)\n",
    "\n",
    "Before 2008, there were two categories in which the cities were classified in India. This was called the Historical classification and the cities were classified before the Sixth Pay Commission's recommendations. \n",
    "\n",
    "**HRA classification:**\n",
    "\n",
    "Under the recommendation of the Seventh Central Pay Commission, the CCA classification was abolished in 2008. The earlier HRA classification of cities was changed from \n",
    "*     A-1 to X \n",
    "*     A, B-1, and B-2 to Y \n",
    "*     C and unclassified cities to Z\n",
    "\n",
    "X, Y, and Z are more commonly known as Tier-1, Tier-2, and Tier-3 cities,\n",
    "\n",
    "There are eight X cities and 97 Y cities in India. \n",
    "![image.png](attachment:073f2d25-3ca2-46cd-af74-6942e2da644f.png)\n",
    "\n",
    "References -\n",
    "* https://en.wikipedia.org/wiki/Classification_of_Indian_cities\n",
    "* https://www.jagranjosh.com/general-knowledge/explained-classification-of-indian-cities-into-tiers-reason-categorization-and-other-details-1629375309-1\n",
    "\n",
    "Suggestion - Dr. Damayanthi"
   ]
  },
  {
   "cell_type": "code",
   "execution_count": 15,
   "metadata": {
    "execution": {
     "iopub.execute_input": "2024-06-21T19:12:53.925855Z",
     "iopub.status.busy": "2024-06-21T19:12:53.925433Z",
     "iopub.status.idle": "2024-06-21T19:12:53.976376Z",
     "shell.execute_reply": "2024-06-21T19:12:53.975134Z",
     "shell.execute_reply.started": "2024-06-21T19:12:53.925818Z"
    }
   },
   "outputs": [],
   "source": [
    "t1=['Ahmedabad', 'Bengaluru', 'Chennai', 'Delhi', 'Hyderabad', 'Kolkata', 'Mumbai', 'Pune']\n",
    "t2=['Ajmer','Aligarh','Amravati','Amritsar','Anand','Asansol','Aurangabad','Bareilly','Belagavi','Bhavnagar','Bhiwandi','Bhopal','Bhubaneswar','Bikaner','Bilaspur','Bokaro Steel City','Burdwan','Chandigarh','Coimbatore','Cuttack','Dahod','Dehradun','Dombivli','Dhanbad','Bhilai','Durgapur','Erode','Faridabad','Ghaziabad','Gorakhpur','Guntur','Gurugram','Guwahati','Gwalior','Hamirpur','Hubli-Dharwad','Indore','Jabalpur','Jaipur','Jalandhar','Jalgaon','Jammu','Jamnagar','Jamshedpur','Jhansi','Jodhpur','Kalaburagi','Kakinada','Kannur','Kanpur','Karnal','Kochi','Kolhapur','Kollam','Kozhikode','Kurnool','Ludhiana','Lucknow','Madurai','Malappuram','Mathura','Mangaluru','Meerut','Moradabad','Mysore','Nagpur','Nanded-Waghala','Nashik','Nellore','Noida','Patna','Puducherry','Purulia','Prayagraj','Raipur','Rajkot','Rajahmundry','Ranchi','Rourkela','Ratlam','Salem','Sangli','Shimla','Siliguri','Solapur','Srinagar','Surat','Thanjavur','Thiruvananthapuram','Thrissur','Tiruchirappalli','Tirunelveli','Tiruvannamalai','Ujjain','Vijayapura','Vadodara','Varanasi','Vasai-Virar','Vijayawada','Visakhapatnam','Vellore','Warangal']\n",
    "\n",
    "def city_tier(city):\n",
    "  if city in t1:\n",
    "    return 'Tier-1'\n",
    "  elif city in t2:\n",
    "    return 'Tier-2'\n",
    "  else :\n",
    "    return 'Tier-3'\n",
    "\n",
    "data['City'] = data['City'].apply(lambda x: x.split(',')[0])\n",
    "data['City Tier'] = data['City'].apply(lambda x: city_tier(x))"
   ]
  },
  {
   "cell_type": "code",
   "execution_count": 16,
   "metadata": {
    "execution": {
     "iopub.execute_input": "2024-06-21T19:12:53.978160Z",
     "iopub.status.busy": "2024-06-21T19:12:53.977760Z",
     "iopub.status.idle": "2024-06-21T19:12:53.985729Z",
     "shell.execute_reply": "2024-06-21T19:12:53.984491Z",
     "shell.execute_reply.started": "2024-06-21T19:12:53.978124Z"
    }
   },
   "outputs": [
    {
     "name": "stdout",
     "output_type": "stream",
     "text": [
      "Number of unique values in City column: 3\n"
     ]
    }
   ],
   "source": [
    "print(f\"Number of unique values in City column: {data['City Tier'].unique().size}\")"
   ]
  },
  {
   "cell_type": "markdown",
   "metadata": {},
   "source": [
    "Now, 986 values are reduced to 3 values and this will improve the model performance."
   ]
  },
  {
   "cell_type": "code",
   "execution_count": 17,
   "metadata": {
    "execution": {
     "iopub.execute_input": "2024-06-21T19:12:53.987655Z",
     "iopub.status.busy": "2024-06-21T19:12:53.987225Z",
     "iopub.status.idle": "2024-06-21T19:12:54.012667Z",
     "shell.execute_reply": "2024-06-21T19:12:54.011308Z",
     "shell.execute_reply.started": "2024-06-21T19:12:53.987618Z"
    }
   },
   "outputs": [
    {
     "data": {
      "text/html": [
       "<div>\n",
       "<style scoped>\n",
       "    .dataframe tbody tr th:only-of-type {\n",
       "        vertical-align: middle;\n",
       "    }\n",
       "\n",
       "    .dataframe tbody tr th {\n",
       "        vertical-align: top;\n",
       "    }\n",
       "\n",
       "    .dataframe thead th {\n",
       "        text-align: right;\n",
       "    }\n",
       "</style>\n",
       "<table border=\"1\" class=\"dataframe\">\n",
       "  <thead>\n",
       "    <tr style=\"text-align: right;\">\n",
       "      <th></th>\n",
       "      <th>index</th>\n",
       "      <th>City</th>\n",
       "      <th>Date</th>\n",
       "      <th>Card Type</th>\n",
       "      <th>Exp Type</th>\n",
       "      <th>Gender</th>\n",
       "      <th>Amount</th>\n",
       "      <th>Month</th>\n",
       "      <th>Day</th>\n",
       "      <th>MonthName</th>\n",
       "      <th>DayName</th>\n",
       "      <th>Year</th>\n",
       "      <th>MonthSin</th>\n",
       "      <th>MonthCos</th>\n",
       "      <th>DaySin</th>\n",
       "      <th>DayCos</th>\n",
       "      <th>City Tier</th>\n",
       "    </tr>\n",
       "  </thead>\n",
       "  <tbody>\n",
       "    <tr>\n",
       "      <th>0</th>\n",
       "      <td>0</td>\n",
       "      <td>Delhi</td>\n",
       "      <td>2014-10-29</td>\n",
       "      <td>Gold</td>\n",
       "      <td>Bills</td>\n",
       "      <td>F</td>\n",
       "      <td>82475</td>\n",
       "      <td>10</td>\n",
       "      <td>2</td>\n",
       "      <td>October</td>\n",
       "      <td>Wednesday</td>\n",
       "      <td>2014</td>\n",
       "      <td>-1.000000</td>\n",
       "      <td>-1.836970e-16</td>\n",
       "      <td>0.974928</td>\n",
       "      <td>-0.222521</td>\n",
       "      <td>Tier-1</td>\n",
       "    </tr>\n",
       "    <tr>\n",
       "      <th>1</th>\n",
       "      <td>1</td>\n",
       "      <td>Greater Mumbai</td>\n",
       "      <td>2014-08-22</td>\n",
       "      <td>Platinum</td>\n",
       "      <td>Bills</td>\n",
       "      <td>F</td>\n",
       "      <td>32555</td>\n",
       "      <td>8</td>\n",
       "      <td>4</td>\n",
       "      <td>August</td>\n",
       "      <td>Friday</td>\n",
       "      <td>2014</td>\n",
       "      <td>-0.500000</td>\n",
       "      <td>-8.660254e-01</td>\n",
       "      <td>-0.433884</td>\n",
       "      <td>-0.900969</td>\n",
       "      <td>Tier-3</td>\n",
       "    </tr>\n",
       "    <tr>\n",
       "      <th>2</th>\n",
       "      <td>2</td>\n",
       "      <td>Bengaluru</td>\n",
       "      <td>2014-08-27</td>\n",
       "      <td>Silver</td>\n",
       "      <td>Bills</td>\n",
       "      <td>F</td>\n",
       "      <td>101738</td>\n",
       "      <td>8</td>\n",
       "      <td>2</td>\n",
       "      <td>August</td>\n",
       "      <td>Wednesday</td>\n",
       "      <td>2014</td>\n",
       "      <td>-0.500000</td>\n",
       "      <td>-8.660254e-01</td>\n",
       "      <td>0.974928</td>\n",
       "      <td>-0.222521</td>\n",
       "      <td>Tier-1</td>\n",
       "    </tr>\n",
       "    <tr>\n",
       "      <th>3</th>\n",
       "      <td>3</td>\n",
       "      <td>Greater Mumbai</td>\n",
       "      <td>2014-04-12</td>\n",
       "      <td>Signature</td>\n",
       "      <td>Bills</td>\n",
       "      <td>F</td>\n",
       "      <td>123424</td>\n",
       "      <td>4</td>\n",
       "      <td>5</td>\n",
       "      <td>April</td>\n",
       "      <td>Saturday</td>\n",
       "      <td>2014</td>\n",
       "      <td>1.000000</td>\n",
       "      <td>6.123234e-17</td>\n",
       "      <td>-0.974928</td>\n",
       "      <td>-0.222521</td>\n",
       "      <td>Tier-3</td>\n",
       "    </tr>\n",
       "    <tr>\n",
       "      <th>4</th>\n",
       "      <td>4</td>\n",
       "      <td>Bengaluru</td>\n",
       "      <td>2015-05-05</td>\n",
       "      <td>Gold</td>\n",
       "      <td>Bills</td>\n",
       "      <td>F</td>\n",
       "      <td>171574</td>\n",
       "      <td>5</td>\n",
       "      <td>1</td>\n",
       "      <td>May</td>\n",
       "      <td>Tuesday</td>\n",
       "      <td>2015</td>\n",
       "      <td>0.866025</td>\n",
       "      <td>-5.000000e-01</td>\n",
       "      <td>0.781831</td>\n",
       "      <td>0.623490</td>\n",
       "      <td>Tier-1</td>\n",
       "    </tr>\n",
       "  </tbody>\n",
       "</table>\n",
       "</div>"
      ],
      "text/plain": [
       "   index            City       Date  Card Type Exp Type Gender  Amount  Month  \\\n",
       "0      0           Delhi 2014-10-29       Gold    Bills      F   82475     10   \n",
       "1      1  Greater Mumbai 2014-08-22   Platinum    Bills      F   32555      8   \n",
       "2      2       Bengaluru 2014-08-27     Silver    Bills      F  101738      8   \n",
       "3      3  Greater Mumbai 2014-04-12  Signature    Bills      F  123424      4   \n",
       "4      4       Bengaluru 2015-05-05       Gold    Bills      F  171574      5   \n",
       "\n",
       "   Day MonthName    DayName  Year  MonthSin      MonthCos    DaySin    DayCos  \\\n",
       "0    2   October  Wednesday  2014 -1.000000 -1.836970e-16  0.974928 -0.222521   \n",
       "1    4    August     Friday  2014 -0.500000 -8.660254e-01 -0.433884 -0.900969   \n",
       "2    2    August  Wednesday  2014 -0.500000 -8.660254e-01  0.974928 -0.222521   \n",
       "3    5     April   Saturday  2014  1.000000  6.123234e-17 -0.974928 -0.222521   \n",
       "4    1       May    Tuesday  2015  0.866025 -5.000000e-01  0.781831  0.623490   \n",
       "\n",
       "  City Tier  \n",
       "0    Tier-1  \n",
       "1    Tier-3  \n",
       "2    Tier-1  \n",
       "3    Tier-3  \n",
       "4    Tier-1  "
      ]
     },
     "execution_count": 17,
     "metadata": {},
     "output_type": "execute_result"
    }
   ],
   "source": [
    "data.head()"
   ]
  },
  {
   "cell_type": "code",
   "execution_count": 18,
   "metadata": {
    "execution": {
     "iopub.execute_input": "2024-06-21T19:12:54.015600Z",
     "iopub.status.busy": "2024-06-21T19:12:54.015157Z",
     "iopub.status.idle": "2024-06-21T19:12:54.034194Z",
     "shell.execute_reply": "2024-06-21T19:12:54.033156Z",
     "shell.execute_reply.started": "2024-06-21T19:12:54.015563Z"
    }
   },
   "outputs": [],
   "source": [
    "data.drop(columns=[\"Date\",\"index\"], inplace=True)"
   ]
  },
  {
   "cell_type": "code",
   "execution_count": 19,
   "metadata": {
    "execution": {
     "iopub.execute_input": "2024-06-21T19:12:54.036298Z",
     "iopub.status.busy": "2024-06-21T19:12:54.035891Z",
     "iopub.status.idle": "2024-06-21T19:12:54.059496Z",
     "shell.execute_reply": "2024-06-21T19:12:54.058219Z",
     "shell.execute_reply.started": "2024-06-21T19:12:54.036264Z"
    }
   },
   "outputs": [
    {
     "data": {
      "text/html": [
       "<div>\n",
       "<style scoped>\n",
       "    .dataframe tbody tr th:only-of-type {\n",
       "        vertical-align: middle;\n",
       "    }\n",
       "\n",
       "    .dataframe tbody tr th {\n",
       "        vertical-align: top;\n",
       "    }\n",
       "\n",
       "    .dataframe thead th {\n",
       "        text-align: right;\n",
       "    }\n",
       "</style>\n",
       "<table border=\"1\" class=\"dataframe\">\n",
       "  <thead>\n",
       "    <tr style=\"text-align: right;\">\n",
       "      <th></th>\n",
       "      <th>City</th>\n",
       "      <th>Card Type</th>\n",
       "      <th>Exp Type</th>\n",
       "      <th>Gender</th>\n",
       "      <th>Amount</th>\n",
       "      <th>Month</th>\n",
       "      <th>Day</th>\n",
       "      <th>MonthName</th>\n",
       "      <th>DayName</th>\n",
       "      <th>Year</th>\n",
       "      <th>MonthSin</th>\n",
       "      <th>MonthCos</th>\n",
       "      <th>DaySin</th>\n",
       "      <th>DayCos</th>\n",
       "      <th>City Tier</th>\n",
       "    </tr>\n",
       "  </thead>\n",
       "  <tbody>\n",
       "    <tr>\n",
       "      <th>0</th>\n",
       "      <td>Delhi</td>\n",
       "      <td>Gold</td>\n",
       "      <td>Bills</td>\n",
       "      <td>F</td>\n",
       "      <td>82475</td>\n",
       "      <td>10</td>\n",
       "      <td>2</td>\n",
       "      <td>October</td>\n",
       "      <td>Wednesday</td>\n",
       "      <td>2014</td>\n",
       "      <td>-1.000000</td>\n",
       "      <td>-1.836970e-16</td>\n",
       "      <td>0.974928</td>\n",
       "      <td>-0.222521</td>\n",
       "      <td>Tier-1</td>\n",
       "    </tr>\n",
       "    <tr>\n",
       "      <th>1</th>\n",
       "      <td>Greater Mumbai</td>\n",
       "      <td>Platinum</td>\n",
       "      <td>Bills</td>\n",
       "      <td>F</td>\n",
       "      <td>32555</td>\n",
       "      <td>8</td>\n",
       "      <td>4</td>\n",
       "      <td>August</td>\n",
       "      <td>Friday</td>\n",
       "      <td>2014</td>\n",
       "      <td>-0.500000</td>\n",
       "      <td>-8.660254e-01</td>\n",
       "      <td>-0.433884</td>\n",
       "      <td>-0.900969</td>\n",
       "      <td>Tier-3</td>\n",
       "    </tr>\n",
       "    <tr>\n",
       "      <th>2</th>\n",
       "      <td>Bengaluru</td>\n",
       "      <td>Silver</td>\n",
       "      <td>Bills</td>\n",
       "      <td>F</td>\n",
       "      <td>101738</td>\n",
       "      <td>8</td>\n",
       "      <td>2</td>\n",
       "      <td>August</td>\n",
       "      <td>Wednesday</td>\n",
       "      <td>2014</td>\n",
       "      <td>-0.500000</td>\n",
       "      <td>-8.660254e-01</td>\n",
       "      <td>0.974928</td>\n",
       "      <td>-0.222521</td>\n",
       "      <td>Tier-1</td>\n",
       "    </tr>\n",
       "    <tr>\n",
       "      <th>3</th>\n",
       "      <td>Greater Mumbai</td>\n",
       "      <td>Signature</td>\n",
       "      <td>Bills</td>\n",
       "      <td>F</td>\n",
       "      <td>123424</td>\n",
       "      <td>4</td>\n",
       "      <td>5</td>\n",
       "      <td>April</td>\n",
       "      <td>Saturday</td>\n",
       "      <td>2014</td>\n",
       "      <td>1.000000</td>\n",
       "      <td>6.123234e-17</td>\n",
       "      <td>-0.974928</td>\n",
       "      <td>-0.222521</td>\n",
       "      <td>Tier-3</td>\n",
       "    </tr>\n",
       "    <tr>\n",
       "      <th>4</th>\n",
       "      <td>Bengaluru</td>\n",
       "      <td>Gold</td>\n",
       "      <td>Bills</td>\n",
       "      <td>F</td>\n",
       "      <td>171574</td>\n",
       "      <td>5</td>\n",
       "      <td>1</td>\n",
       "      <td>May</td>\n",
       "      <td>Tuesday</td>\n",
       "      <td>2015</td>\n",
       "      <td>0.866025</td>\n",
       "      <td>-5.000000e-01</td>\n",
       "      <td>0.781831</td>\n",
       "      <td>0.623490</td>\n",
       "      <td>Tier-1</td>\n",
       "    </tr>\n",
       "    <tr>\n",
       "      <th>...</th>\n",
       "      <td>...</td>\n",
       "      <td>...</td>\n",
       "      <td>...</td>\n",
       "      <td>...</td>\n",
       "      <td>...</td>\n",
       "      <td>...</td>\n",
       "      <td>...</td>\n",
       "      <td>...</td>\n",
       "      <td>...</td>\n",
       "      <td>...</td>\n",
       "      <td>...</td>\n",
       "      <td>...</td>\n",
       "      <td>...</td>\n",
       "      <td>...</td>\n",
       "      <td>...</td>\n",
       "    </tr>\n",
       "    <tr>\n",
       "      <th>26047</th>\n",
       "      <td>Kolkata</td>\n",
       "      <td>Silver</td>\n",
       "      <td>Travel</td>\n",
       "      <td>F</td>\n",
       "      <td>128191</td>\n",
       "      <td>6</td>\n",
       "      <td>6</td>\n",
       "      <td>June</td>\n",
       "      <td>Sunday</td>\n",
       "      <td>2014</td>\n",
       "      <td>0.500000</td>\n",
       "      <td>-8.660254e-01</td>\n",
       "      <td>-0.781831</td>\n",
       "      <td>0.623490</td>\n",
       "      <td>Tier-1</td>\n",
       "    </tr>\n",
       "    <tr>\n",
       "      <th>26048</th>\n",
       "      <td>Pune</td>\n",
       "      <td>Signature</td>\n",
       "      <td>Travel</td>\n",
       "      <td>M</td>\n",
       "      <td>246316</td>\n",
       "      <td>8</td>\n",
       "      <td>6</td>\n",
       "      <td>August</td>\n",
       "      <td>Sunday</td>\n",
       "      <td>2014</td>\n",
       "      <td>-0.500000</td>\n",
       "      <td>-8.660254e-01</td>\n",
       "      <td>-0.781831</td>\n",
       "      <td>0.623490</td>\n",
       "      <td>Tier-1</td>\n",
       "    </tr>\n",
       "    <tr>\n",
       "      <th>26049</th>\n",
       "      <td>Hyderabad</td>\n",
       "      <td>Silver</td>\n",
       "      <td>Travel</td>\n",
       "      <td>M</td>\n",
       "      <td>265019</td>\n",
       "      <td>1</td>\n",
       "      <td>4</td>\n",
       "      <td>January</td>\n",
       "      <td>Friday</td>\n",
       "      <td>2015</td>\n",
       "      <td>0.000000</td>\n",
       "      <td>1.000000e+00</td>\n",
       "      <td>-0.433884</td>\n",
       "      <td>-0.900969</td>\n",
       "      <td>Tier-1</td>\n",
       "    </tr>\n",
       "    <tr>\n",
       "      <th>26050</th>\n",
       "      <td>Kanpur</td>\n",
       "      <td>Silver</td>\n",
       "      <td>Travel</td>\n",
       "      <td>M</td>\n",
       "      <td>88174</td>\n",
       "      <td>9</td>\n",
       "      <td>6</td>\n",
       "      <td>September</td>\n",
       "      <td>Sunday</td>\n",
       "      <td>2014</td>\n",
       "      <td>-0.866025</td>\n",
       "      <td>-5.000000e-01</td>\n",
       "      <td>-0.781831</td>\n",
       "      <td>0.623490</td>\n",
       "      <td>Tier-2</td>\n",
       "    </tr>\n",
       "    <tr>\n",
       "      <th>26051</th>\n",
       "      <td>Hyderabad</td>\n",
       "      <td>Signature</td>\n",
       "      <td>Bills</td>\n",
       "      <td>M</td>\n",
       "      <td>184410</td>\n",
       "      <td>10</td>\n",
       "      <td>5</td>\n",
       "      <td>October</td>\n",
       "      <td>Saturday</td>\n",
       "      <td>2013</td>\n",
       "      <td>-1.000000</td>\n",
       "      <td>-1.836970e-16</td>\n",
       "      <td>-0.974928</td>\n",
       "      <td>-0.222521</td>\n",
       "      <td>Tier-1</td>\n",
       "    </tr>\n",
       "  </tbody>\n",
       "</table>\n",
       "<p>26052 rows × 15 columns</p>\n",
       "</div>"
      ],
      "text/plain": [
       "                 City  Card Type Exp Type Gender  Amount  Month  Day  \\\n",
       "0               Delhi       Gold    Bills      F   82475     10    2   \n",
       "1      Greater Mumbai   Platinum    Bills      F   32555      8    4   \n",
       "2           Bengaluru     Silver    Bills      F  101738      8    2   \n",
       "3      Greater Mumbai  Signature    Bills      F  123424      4    5   \n",
       "4           Bengaluru       Gold    Bills      F  171574      5    1   \n",
       "...               ...        ...      ...    ...     ...    ...  ...   \n",
       "26047         Kolkata     Silver   Travel      F  128191      6    6   \n",
       "26048            Pune  Signature   Travel      M  246316      8    6   \n",
       "26049       Hyderabad     Silver   Travel      M  265019      1    4   \n",
       "26050          Kanpur     Silver   Travel      M   88174      9    6   \n",
       "26051       Hyderabad  Signature    Bills      M  184410     10    5   \n",
       "\n",
       "       MonthName    DayName  Year  MonthSin      MonthCos    DaySin    DayCos  \\\n",
       "0        October  Wednesday  2014 -1.000000 -1.836970e-16  0.974928 -0.222521   \n",
       "1         August     Friday  2014 -0.500000 -8.660254e-01 -0.433884 -0.900969   \n",
       "2         August  Wednesday  2014 -0.500000 -8.660254e-01  0.974928 -0.222521   \n",
       "3          April   Saturday  2014  1.000000  6.123234e-17 -0.974928 -0.222521   \n",
       "4            May    Tuesday  2015  0.866025 -5.000000e-01  0.781831  0.623490   \n",
       "...          ...        ...   ...       ...           ...       ...       ...   \n",
       "26047       June     Sunday  2014  0.500000 -8.660254e-01 -0.781831  0.623490   \n",
       "26048     August     Sunday  2014 -0.500000 -8.660254e-01 -0.781831  0.623490   \n",
       "26049    January     Friday  2015  0.000000  1.000000e+00 -0.433884 -0.900969   \n",
       "26050  September     Sunday  2014 -0.866025 -5.000000e-01 -0.781831  0.623490   \n",
       "26051    October   Saturday  2013 -1.000000 -1.836970e-16 -0.974928 -0.222521   \n",
       "\n",
       "      City Tier  \n",
       "0        Tier-1  \n",
       "1        Tier-3  \n",
       "2        Tier-1  \n",
       "3        Tier-3  \n",
       "4        Tier-1  \n",
       "...         ...  \n",
       "26047    Tier-1  \n",
       "26048    Tier-1  \n",
       "26049    Tier-1  \n",
       "26050    Tier-2  \n",
       "26051    Tier-1  \n",
       "\n",
       "[26052 rows x 15 columns]"
      ]
     },
     "execution_count": 19,
     "metadata": {},
     "output_type": "execute_result"
    }
   ],
   "source": [
    "data"
   ]
  },
  {
   "cell_type": "code",
   "execution_count": 20,
   "metadata": {
    "execution": {
     "iopub.execute_input": "2024-06-21T19:12:54.061353Z",
     "iopub.status.busy": "2024-06-21T19:12:54.060951Z",
     "iopub.status.idle": "2024-06-21T19:12:54.099408Z",
     "shell.execute_reply": "2024-06-21T19:12:54.098179Z",
     "shell.execute_reply.started": "2024-06-21T19:12:54.061318Z"
    }
   },
   "outputs": [
    {
     "name": "stdout",
     "output_type": "stream",
     "text": [
      "<class 'pandas.core.frame.DataFrame'>\n",
      "RangeIndex: 26052 entries, 0 to 26051\n",
      "Data columns (total 15 columns):\n",
      " #   Column     Non-Null Count  Dtype  \n",
      "---  ------     --------------  -----  \n",
      " 0   City       26052 non-null  object \n",
      " 1   Card Type  26052 non-null  object \n",
      " 2   Exp Type   26052 non-null  object \n",
      " 3   Gender     26052 non-null  object \n",
      " 4   Amount     26052 non-null  int64  \n",
      " 5   Month      26052 non-null  int32  \n",
      " 6   Day        26052 non-null  int32  \n",
      " 7   MonthName  26052 non-null  object \n",
      " 8   DayName    26052 non-null  object \n",
      " 9   Year       26052 non-null  int32  \n",
      " 10  MonthSin   26052 non-null  float64\n",
      " 11  MonthCos   26052 non-null  float64\n",
      " 12  DaySin     26052 non-null  float64\n",
      " 13  DayCos     26052 non-null  float64\n",
      " 14  City Tier  26052 non-null  object \n",
      "dtypes: float64(4), int32(3), int64(1), object(7)\n",
      "memory usage: 2.7+ MB\n"
     ]
    }
   ],
   "source": [
    "data.info()"
   ]
  },
  {
   "cell_type": "code",
   "execution_count": 21,
   "metadata": {
    "execution": {
     "iopub.execute_input": "2024-06-21T19:12:54.101122Z",
     "iopub.status.busy": "2024-06-21T19:12:54.100739Z",
     "iopub.status.idle": "2024-06-21T19:12:54.146830Z",
     "shell.execute_reply": "2024-06-21T19:12:54.145462Z",
     "shell.execute_reply.started": "2024-06-21T19:12:54.101088Z"
    }
   },
   "outputs": [
    {
     "data": {
      "text/html": [
       "<div>\n",
       "<style scoped>\n",
       "    .dataframe tbody tr th:only-of-type {\n",
       "        vertical-align: middle;\n",
       "    }\n",
       "\n",
       "    .dataframe tbody tr th {\n",
       "        vertical-align: top;\n",
       "    }\n",
       "\n",
       "    .dataframe thead th {\n",
       "        text-align: right;\n",
       "    }\n",
       "</style>\n",
       "<table border=\"1\" class=\"dataframe\">\n",
       "  <thead>\n",
       "    <tr style=\"text-align: right;\">\n",
       "      <th></th>\n",
       "      <th>Amount</th>\n",
       "      <th>Month</th>\n",
       "      <th>Day</th>\n",
       "      <th>Year</th>\n",
       "      <th>MonthSin</th>\n",
       "      <th>MonthCos</th>\n",
       "      <th>DaySin</th>\n",
       "      <th>DayCos</th>\n",
       "    </tr>\n",
       "  </thead>\n",
       "  <tbody>\n",
       "    <tr>\n",
       "      <th>count</th>\n",
       "      <td>26052.000000</td>\n",
       "      <td>26052.000000</td>\n",
       "      <td>26052.000000</td>\n",
       "      <td>26052.000000</td>\n",
       "      <td>26052.000000</td>\n",
       "      <td>26052.000000</td>\n",
       "      <td>26052.000000</td>\n",
       "      <td>26052.000000</td>\n",
       "    </tr>\n",
       "    <tr>\n",
       "      <th>mean</th>\n",
       "      <td>156411.537425</td>\n",
       "      <td>6.354023</td>\n",
       "      <td>3.016621</td>\n",
       "      <td>2014.092392</td>\n",
       "      <td>0.025953</td>\n",
       "      <td>0.165944</td>\n",
       "      <td>-0.006499</td>\n",
       "      <td>0.001982</td>\n",
       "    </tr>\n",
       "    <tr>\n",
       "      <th>std</th>\n",
       "      <td>103063.254287</td>\n",
       "      <td>3.739676</td>\n",
       "      <td>2.006111</td>\n",
       "      <td>0.620761</td>\n",
       "      <td>0.731166</td>\n",
       "      <td>0.661228</td>\n",
       "      <td>0.706793</td>\n",
       "      <td>0.707415</td>\n",
       "    </tr>\n",
       "    <tr>\n",
       "      <th>min</th>\n",
       "      <td>1005.000000</td>\n",
       "      <td>1.000000</td>\n",
       "      <td>0.000000</td>\n",
       "      <td>2013.000000</td>\n",
       "      <td>-1.000000</td>\n",
       "      <td>-1.000000</td>\n",
       "      <td>-0.974928</td>\n",
       "      <td>-0.900969</td>\n",
       "    </tr>\n",
       "    <tr>\n",
       "      <th>25%</th>\n",
       "      <td>77120.250000</td>\n",
       "      <td>3.000000</td>\n",
       "      <td>1.000000</td>\n",
       "      <td>2014.000000</td>\n",
       "      <td>-0.866025</td>\n",
       "      <td>-0.500000</td>\n",
       "      <td>-0.781831</td>\n",
       "      <td>-0.900969</td>\n",
       "    </tr>\n",
       "    <tr>\n",
       "      <th>50%</th>\n",
       "      <td>153106.500000</td>\n",
       "      <td>6.000000</td>\n",
       "      <td>3.000000</td>\n",
       "      <td>2014.000000</td>\n",
       "      <td>0.000000</td>\n",
       "      <td>0.500000</td>\n",
       "      <td>0.000000</td>\n",
       "      <td>-0.222521</td>\n",
       "    </tr>\n",
       "    <tr>\n",
       "      <th>75%</th>\n",
       "      <td>228050.000000</td>\n",
       "      <td>10.000000</td>\n",
       "      <td>5.000000</td>\n",
       "      <td>2014.000000</td>\n",
       "      <td>0.866025</td>\n",
       "      <td>0.866025</td>\n",
       "      <td>0.781831</td>\n",
       "      <td>0.623490</td>\n",
       "    </tr>\n",
       "    <tr>\n",
       "      <th>max</th>\n",
       "      <td>998077.000000</td>\n",
       "      <td>12.000000</td>\n",
       "      <td>6.000000</td>\n",
       "      <td>2015.000000</td>\n",
       "      <td>1.000000</td>\n",
       "      <td>1.000000</td>\n",
       "      <td>0.974928</td>\n",
       "      <td>1.000000</td>\n",
       "    </tr>\n",
       "  </tbody>\n",
       "</table>\n",
       "</div>"
      ],
      "text/plain": [
       "              Amount         Month           Day          Year      MonthSin  \\\n",
       "count   26052.000000  26052.000000  26052.000000  26052.000000  26052.000000   \n",
       "mean   156411.537425      6.354023      3.016621   2014.092392      0.025953   \n",
       "std    103063.254287      3.739676      2.006111      0.620761      0.731166   \n",
       "min      1005.000000      1.000000      0.000000   2013.000000     -1.000000   \n",
       "25%     77120.250000      3.000000      1.000000   2014.000000     -0.866025   \n",
       "50%    153106.500000      6.000000      3.000000   2014.000000      0.000000   \n",
       "75%    228050.000000     10.000000      5.000000   2014.000000      0.866025   \n",
       "max    998077.000000     12.000000      6.000000   2015.000000      1.000000   \n",
       "\n",
       "           MonthCos        DaySin        DayCos  \n",
       "count  26052.000000  26052.000000  26052.000000  \n",
       "mean       0.165944     -0.006499      0.001982  \n",
       "std        0.661228      0.706793      0.707415  \n",
       "min       -1.000000     -0.974928     -0.900969  \n",
       "25%       -0.500000     -0.781831     -0.900969  \n",
       "50%        0.500000      0.000000     -0.222521  \n",
       "75%        0.866025      0.781831      0.623490  \n",
       "max        1.000000      0.974928      1.000000  "
      ]
     },
     "execution_count": 21,
     "metadata": {},
     "output_type": "execute_result"
    }
   ],
   "source": [
    "data.describe()"
   ]
  },
  {
   "cell_type": "code",
   "execution_count": 22,
   "metadata": {
    "execution": {
     "iopub.execute_input": "2024-06-21T19:12:54.148385Z",
     "iopub.status.busy": "2024-06-21T19:12:54.147973Z",
     "iopub.status.idle": "2024-06-21T19:12:54.169015Z",
     "shell.execute_reply": "2024-06-21T19:12:54.167595Z",
     "shell.execute_reply.started": "2024-06-21T19:12:54.148352Z"
    }
   },
   "outputs": [
    {
     "data": {
      "text/html": [
       "<div>\n",
       "<style scoped>\n",
       "    .dataframe tbody tr th:only-of-type {\n",
       "        vertical-align: middle;\n",
       "    }\n",
       "\n",
       "    .dataframe tbody tr th {\n",
       "        vertical-align: top;\n",
       "    }\n",
       "\n",
       "    .dataframe thead th {\n",
       "        text-align: right;\n",
       "    }\n",
       "</style>\n",
       "<table border=\"1\" class=\"dataframe\">\n",
       "  <thead>\n",
       "    <tr style=\"text-align: right;\">\n",
       "      <th></th>\n",
       "      <th>City</th>\n",
       "      <th>Card Type</th>\n",
       "      <th>Exp Type</th>\n",
       "      <th>Gender</th>\n",
       "      <th>Amount</th>\n",
       "      <th>Month</th>\n",
       "      <th>Day</th>\n",
       "      <th>MonthName</th>\n",
       "      <th>DayName</th>\n",
       "      <th>Year</th>\n",
       "      <th>MonthSin</th>\n",
       "      <th>MonthCos</th>\n",
       "      <th>DaySin</th>\n",
       "      <th>DayCos</th>\n",
       "      <th>City Tier</th>\n",
       "    </tr>\n",
       "  </thead>\n",
       "  <tbody>\n",
       "    <tr>\n",
       "      <th>0</th>\n",
       "      <td>Delhi</td>\n",
       "      <td>Gold</td>\n",
       "      <td>Bills</td>\n",
       "      <td>F</td>\n",
       "      <td>82475</td>\n",
       "      <td>10</td>\n",
       "      <td>2</td>\n",
       "      <td>October</td>\n",
       "      <td>Wednesday</td>\n",
       "      <td>2014</td>\n",
       "      <td>-1.000000</td>\n",
       "      <td>-1.836970e-16</td>\n",
       "      <td>0.974928</td>\n",
       "      <td>-0.222521</td>\n",
       "      <td>Tier-1</td>\n",
       "    </tr>\n",
       "    <tr>\n",
       "      <th>1</th>\n",
       "      <td>Greater Mumbai</td>\n",
       "      <td>Platinum</td>\n",
       "      <td>Bills</td>\n",
       "      <td>F</td>\n",
       "      <td>32555</td>\n",
       "      <td>8</td>\n",
       "      <td>4</td>\n",
       "      <td>August</td>\n",
       "      <td>Friday</td>\n",
       "      <td>2014</td>\n",
       "      <td>-0.500000</td>\n",
       "      <td>-8.660254e-01</td>\n",
       "      <td>-0.433884</td>\n",
       "      <td>-0.900969</td>\n",
       "      <td>Tier-3</td>\n",
       "    </tr>\n",
       "    <tr>\n",
       "      <th>2</th>\n",
       "      <td>Bengaluru</td>\n",
       "      <td>Silver</td>\n",
       "      <td>Bills</td>\n",
       "      <td>F</td>\n",
       "      <td>101738</td>\n",
       "      <td>8</td>\n",
       "      <td>2</td>\n",
       "      <td>August</td>\n",
       "      <td>Wednesday</td>\n",
       "      <td>2014</td>\n",
       "      <td>-0.500000</td>\n",
       "      <td>-8.660254e-01</td>\n",
       "      <td>0.974928</td>\n",
       "      <td>-0.222521</td>\n",
       "      <td>Tier-1</td>\n",
       "    </tr>\n",
       "    <tr>\n",
       "      <th>3</th>\n",
       "      <td>Greater Mumbai</td>\n",
       "      <td>Signature</td>\n",
       "      <td>Bills</td>\n",
       "      <td>F</td>\n",
       "      <td>123424</td>\n",
       "      <td>4</td>\n",
       "      <td>5</td>\n",
       "      <td>April</td>\n",
       "      <td>Saturday</td>\n",
       "      <td>2014</td>\n",
       "      <td>1.000000</td>\n",
       "      <td>6.123234e-17</td>\n",
       "      <td>-0.974928</td>\n",
       "      <td>-0.222521</td>\n",
       "      <td>Tier-3</td>\n",
       "    </tr>\n",
       "    <tr>\n",
       "      <th>4</th>\n",
       "      <td>Bengaluru</td>\n",
       "      <td>Gold</td>\n",
       "      <td>Bills</td>\n",
       "      <td>F</td>\n",
       "      <td>171574</td>\n",
       "      <td>5</td>\n",
       "      <td>1</td>\n",
       "      <td>May</td>\n",
       "      <td>Tuesday</td>\n",
       "      <td>2015</td>\n",
       "      <td>0.866025</td>\n",
       "      <td>-5.000000e-01</td>\n",
       "      <td>0.781831</td>\n",
       "      <td>0.623490</td>\n",
       "      <td>Tier-1</td>\n",
       "    </tr>\n",
       "  </tbody>\n",
       "</table>\n",
       "</div>"
      ],
      "text/plain": [
       "             City  Card Type Exp Type Gender  Amount  Month  Day MonthName  \\\n",
       "0           Delhi       Gold    Bills      F   82475     10    2   October   \n",
       "1  Greater Mumbai   Platinum    Bills      F   32555      8    4    August   \n",
       "2       Bengaluru     Silver    Bills      F  101738      8    2    August   \n",
       "3  Greater Mumbai  Signature    Bills      F  123424      4    5     April   \n",
       "4       Bengaluru       Gold    Bills      F  171574      5    1       May   \n",
       "\n",
       "     DayName  Year  MonthSin      MonthCos    DaySin    DayCos City Tier  \n",
       "0  Wednesday  2014 -1.000000 -1.836970e-16  0.974928 -0.222521    Tier-1  \n",
       "1     Friday  2014 -0.500000 -8.660254e-01 -0.433884 -0.900969    Tier-3  \n",
       "2  Wednesday  2014 -0.500000 -8.660254e-01  0.974928 -0.222521    Tier-1  \n",
       "3   Saturday  2014  1.000000  6.123234e-17 -0.974928 -0.222521    Tier-3  \n",
       "4    Tuesday  2015  0.866025 -5.000000e-01  0.781831  0.623490    Tier-1  "
      ]
     },
     "execution_count": 22,
     "metadata": {},
     "output_type": "execute_result"
    }
   ],
   "source": [
    "data.head()"
   ]
  },
  {
   "cell_type": "code",
   "execution_count": 23,
   "metadata": {
    "execution": {
     "iopub.execute_input": "2024-06-21T19:12:54.171031Z",
     "iopub.status.busy": "2024-06-21T19:12:54.170669Z",
     "iopub.status.idle": "2024-06-21T19:12:54.439714Z",
     "shell.execute_reply": "2024-06-21T19:12:54.438484Z",
     "shell.execute_reply.started": "2024-06-21T19:12:54.171000Z"
    }
   },
   "outputs": [
    {
     "data": {
      "text/plain": [
       "<Axes: >"
      ]
     },
     "execution_count": 23,
     "metadata": {},
     "output_type": "execute_result"
    },
    {
     "data": {
      "image/png": "[encoded data removed]",
      "text/plain": [
       "<Figure size 640x480 with 1 Axes>"
      ]
     },
     "metadata": {},
     "output_type": "display_data"
    }
   ],
   "source": [
    "data['Amount'].hist()"
   ]
  },
  {
   "cell_type": "code",
   "execution_count": 24,
   "metadata": {
    "execution": {
     "iopub.execute_input": "2024-06-21T19:12:54.441591Z",
     "iopub.status.busy": "2024-06-21T19:12:54.441175Z",
     "iopub.status.idle": "2024-06-21T19:12:54.705313Z",
     "shell.execute_reply": "2024-06-21T19:12:54.704050Z",
     "shell.execute_reply.started": "2024-06-21T19:12:54.441556Z"
    }
   },
   "outputs": [
    {
     "data": {
      "text/plain": [
       "(25754, 15)"
      ]
     },
     "execution_count": 24,
     "metadata": {},
     "output_type": "execute_result"
    },
    {
     "data": {
      "image/png": "[encoded data removed]",
      "text/plain": [
       "<Figure size 640x480 with 1 Axes>"
      ]
     },
     "metadata": {},
     "output_type": "display_data"
    }
   ],
   "source": [
    "data = data[data['Amount'] < 300000]\n",
    "data['Amount'].hist()\n",
    "data.shape"
   ]
  },
  {
   "cell_type": "code",
   "execution_count": 25,
   "metadata": {
    "execution": {
     "iopub.execute_input": "2024-06-21T19:12:54.707156Z",
     "iopub.status.busy": "2024-06-21T19:12:54.706769Z",
     "iopub.status.idle": "2024-06-21T19:12:54.715735Z",
     "shell.execute_reply": "2024-06-21T19:12:54.714320Z",
     "shell.execute_reply.started": "2024-06-21T19:12:54.707122Z"
    }
   },
   "outputs": [
    {
     "name": "stdout",
     "output_type": "stream",
     "text": [
      "299981\n",
      "30000\n"
     ]
    }
   ],
   "source": [
    "import math\n",
    "\n",
    "num_of_categories = 10;\n",
    "max_amount = data['Amount'].max()\n",
    "print(max_amount)\n",
    "step_size = math.ceil((max_amount/num_of_categories)/10000)*10000\n",
    "print(step_size)"
   ]
  },
  {
   "cell_type": "code",
   "execution_count": 26,
   "metadata": {
    "execution": {
     "iopub.execute_input": "2024-06-21T19:12:54.717556Z",
     "iopub.status.busy": "2024-06-21T19:12:54.717150Z",
     "iopub.status.idle": "2024-06-21T19:12:54.726164Z",
     "shell.execute_reply": "2024-06-21T19:12:54.725025Z",
     "shell.execute_reply.started": "2024-06-21T19:12:54.717514Z"
    }
   },
   "outputs": [],
   "source": [
    "def catergorize_amount(value):\n",
    "    amount_cat = None\n",
    "    for i in range(1,num_of_categories+1):\n",
    "        thresh = i*step_size\n",
    "        if(value > thresh):\n",
    "            pass\n",
    "        else:\n",
    "            amount_cat = f\"{thresh-step_size} - {thresh}\"\n",
    "            return amount_cat"
   ]
  },
  {
   "cell_type": "code",
   "execution_count": 27,
   "metadata": {
    "execution": {
     "iopub.execute_input": "2024-06-21T19:12:54.728149Z",
     "iopub.status.busy": "2024-06-21T19:12:54.727662Z",
     "iopub.status.idle": "2024-06-21T19:12:54.790198Z",
     "shell.execute_reply": "2024-06-21T19:12:54.788923Z",
     "shell.execute_reply.started": "2024-06-21T19:12:54.728113Z"
    }
   },
   "outputs": [
    {
     "name": "stderr",
     "output_type": "stream",
     "text": [
      "/tmp/ipykernel_33/573246793.py:1: SettingWithCopyWarning: \n",
      "A value is trying to be set on a copy of a slice from a DataFrame.\n",
      "Try using .loc[row_indexer,col_indexer] = value instead\n",
      "\n",
      "See the caveats in the documentation: https://pandas.pydata.org/pandas-docs/stable/user_guide/indexing.html#returning-a-view-versus-a-copy\n",
      "  data['Amount_Category']= data['Amount'].apply(catergorize_amount)\n"
     ]
    }
   ],
   "source": [
    "data['Amount_Category']= data['Amount'].apply(catergorize_amount)"
   ]
  },
  {
   "cell_type": "code",
   "execution_count": 28,
   "metadata": {
    "execution": {
     "iopub.execute_input": "2024-06-21T19:12:54.798093Z",
     "iopub.status.busy": "2024-06-21T19:12:54.797637Z",
     "iopub.status.idle": "2024-06-21T19:12:54.808619Z",
     "shell.execute_reply": "2024-06-21T19:12:54.807452Z",
     "shell.execute_reply.started": "2024-06-21T19:12:54.798054Z"
    }
   },
   "outputs": [
    {
     "name": "stdout",
     "output_type": "stream",
     "text": [
      "   Amount  Amount_Category\n",
      "0   82475    60000 - 90000\n",
      "1   32555    30000 - 60000\n",
      "2  101738   90000 - 120000\n",
      "3  123424  120000 - 150000\n",
      "4  171574  150000 - 180000\n",
      "5  100036   90000 - 120000\n",
      "6  143250  120000 - 150000\n",
      "7  150980  150000 - 180000\n",
      "8  192247  180000 - 210000\n",
      "9   67932    60000 - 90000\n"
     ]
    }
   ],
   "source": [
    "print(data[[\"Amount\", \"Amount_Category\"]].head(10))"
   ]
  },
  {
   "cell_type": "code",
   "execution_count": 29,
   "metadata": {
    "execution": {
     "iopub.execute_input": "2024-06-21T19:12:54.810394Z",
     "iopub.status.busy": "2024-06-21T19:12:54.809968Z",
     "iopub.status.idle": "2024-06-21T19:12:54.834262Z",
     "shell.execute_reply": "2024-06-21T19:12:54.833145Z",
     "shell.execute_reply.started": "2024-06-21T19:12:54.810361Z"
    }
   },
   "outputs": [
    {
     "name": "stderr",
     "output_type": "stream",
     "text": [
      "/tmp/ipykernel_33/665262259.py:2: SettingWithCopyWarning: \n",
      "A value is trying to be set on a copy of a slice from a DataFrame\n",
      "\n",
      "See the caveats in the documentation: https://pandas.pydata.org/pandas-docs/stable/user_guide/indexing.html#returning-a-view-versus-a-copy\n",
      "  data.drop(columns=columns_to_drop, inplace=True)\n"
     ]
    },
    {
     "data": {
      "text/html": [
       "<div>\n",
       "<style scoped>\n",
       "    .dataframe tbody tr th:only-of-type {\n",
       "        vertical-align: middle;\n",
       "    }\n",
       "\n",
       "    .dataframe tbody tr th {\n",
       "        vertical-align: top;\n",
       "    }\n",
       "\n",
       "    .dataframe thead th {\n",
       "        text-align: right;\n",
       "    }\n",
       "</style>\n",
       "<table border=\"1\" class=\"dataframe\">\n",
       "  <thead>\n",
       "    <tr style=\"text-align: right;\">\n",
       "      <th></th>\n",
       "      <th>Card Type</th>\n",
       "      <th>Exp Type</th>\n",
       "      <th>Gender</th>\n",
       "      <th>MonthName</th>\n",
       "      <th>DayName</th>\n",
       "      <th>City Tier</th>\n",
       "      <th>Amount_Category</th>\n",
       "    </tr>\n",
       "  </thead>\n",
       "  <tbody>\n",
       "    <tr>\n",
       "      <th>0</th>\n",
       "      <td>Gold</td>\n",
       "      <td>Bills</td>\n",
       "      <td>F</td>\n",
       "      <td>October</td>\n",
       "      <td>Wednesday</td>\n",
       "      <td>Tier-1</td>\n",
       "      <td>60000 - 90000</td>\n",
       "    </tr>\n",
       "    <tr>\n",
       "      <th>1</th>\n",
       "      <td>Platinum</td>\n",
       "      <td>Bills</td>\n",
       "      <td>F</td>\n",
       "      <td>August</td>\n",
       "      <td>Friday</td>\n",
       "      <td>Tier-3</td>\n",
       "      <td>30000 - 60000</td>\n",
       "    </tr>\n",
       "    <tr>\n",
       "      <th>2</th>\n",
       "      <td>Silver</td>\n",
       "      <td>Bills</td>\n",
       "      <td>F</td>\n",
       "      <td>August</td>\n",
       "      <td>Wednesday</td>\n",
       "      <td>Tier-1</td>\n",
       "      <td>90000 - 120000</td>\n",
       "    </tr>\n",
       "    <tr>\n",
       "      <th>3</th>\n",
       "      <td>Signature</td>\n",
       "      <td>Bills</td>\n",
       "      <td>F</td>\n",
       "      <td>April</td>\n",
       "      <td>Saturday</td>\n",
       "      <td>Tier-3</td>\n",
       "      <td>120000 - 150000</td>\n",
       "    </tr>\n",
       "    <tr>\n",
       "      <th>4</th>\n",
       "      <td>Gold</td>\n",
       "      <td>Bills</td>\n",
       "      <td>F</td>\n",
       "      <td>May</td>\n",
       "      <td>Tuesday</td>\n",
       "      <td>Tier-1</td>\n",
       "      <td>150000 - 180000</td>\n",
       "    </tr>\n",
       "  </tbody>\n",
       "</table>\n",
       "</div>"
      ],
      "text/plain": [
       "   Card Type Exp Type Gender MonthName    DayName City Tier  Amount_Category\n",
       "0       Gold    Bills      F   October  Wednesday    Tier-1    60000 - 90000\n",
       "1   Platinum    Bills      F    August     Friday    Tier-3    30000 - 60000\n",
       "2     Silver    Bills      F    August  Wednesday    Tier-1   90000 - 120000\n",
       "3  Signature    Bills      F     April   Saturday    Tier-3  120000 - 150000\n",
       "4       Gold    Bills      F       May    Tuesday    Tier-1  150000 - 180000"
      ]
     },
     "execution_count": 29,
     "metadata": {},
     "output_type": "execute_result"
    }
   ],
   "source": [
    "columns_to_drop = [\"Amount\",\"Year\",\"City\",\"Day\", \"Month\", \"MonthSin\",\"MonthCos\",\"DaySin\" ,\"DayCos\"]\n",
    "data.drop(columns=columns_to_drop, inplace=True)\n",
    "data.head()"
   ]
  },
  {
   "cell_type": "code",
   "execution_count": 71,
   "metadata": {},
   "outputs": [],
   "source": [
    "import matplotlib.pyplot as plt\n",
    "from kmodes.kmodes import KModes"
   ]
  },
  {
   "cell_type": "code",
   "execution_count": 72,
   "metadata": {},
   "outputs": [
    {
     "data": {
      "text/html": [
       "<div>\n",
       "<style scoped>\n",
       "    .dataframe tbody tr th:only-of-type {\n",
       "        vertical-align: middle;\n",
       "    }\n",
       "\n",
       "    .dataframe tbody tr th {\n",
       "        vertical-align: top;\n",
       "    }\n",
       "\n",
       "    .dataframe thead th {\n",
       "        text-align: right;\n",
       "    }\n",
       "</style>\n",
       "<table border=\"1\" class=\"dataframe\">\n",
       "  <thead>\n",
       "    <tr style=\"text-align: right;\">\n",
       "      <th></th>\n",
       "      <th>Card Type</th>\n",
       "      <th>Exp Type</th>\n",
       "      <th>Gender</th>\n",
       "      <th>MonthName</th>\n",
       "      <th>DayName</th>\n",
       "      <th>City Tier</th>\n",
       "      <th>Amount_Category</th>\n",
       "    </tr>\n",
       "  </thead>\n",
       "  <tbody>\n",
       "    <tr>\n",
       "      <th>0</th>\n",
       "      <td>Gold</td>\n",
       "      <td>Bills</td>\n",
       "      <td>F</td>\n",
       "      <td>October</td>\n",
       "      <td>Wednesday</td>\n",
       "      <td>Tier-1</td>\n",
       "      <td>60000 - 90000</td>\n",
       "    </tr>\n",
       "    <tr>\n",
       "      <th>1</th>\n",
       "      <td>Platinum</td>\n",
       "      <td>Bills</td>\n",
       "      <td>F</td>\n",
       "      <td>August</td>\n",
       "      <td>Friday</td>\n",
       "      <td>Tier-3</td>\n",
       "      <td>30000 - 60000</td>\n",
       "    </tr>\n",
       "    <tr>\n",
       "      <th>2</th>\n",
       "      <td>Silver</td>\n",
       "      <td>Bills</td>\n",
       "      <td>F</td>\n",
       "      <td>August</td>\n",
       "      <td>Wednesday</td>\n",
       "      <td>Tier-1</td>\n",
       "      <td>90000 - 120000</td>\n",
       "    </tr>\n",
       "    <tr>\n",
       "      <th>3</th>\n",
       "      <td>Signature</td>\n",
       "      <td>Bills</td>\n",
       "      <td>F</td>\n",
       "      <td>April</td>\n",
       "      <td>Saturday</td>\n",
       "      <td>Tier-3</td>\n",
       "      <td>120000 - 150000</td>\n",
       "    </tr>\n",
       "    <tr>\n",
       "      <th>4</th>\n",
       "      <td>Gold</td>\n",
       "      <td>Bills</td>\n",
       "      <td>F</td>\n",
       "      <td>May</td>\n",
       "      <td>Tuesday</td>\n",
       "      <td>Tier-1</td>\n",
       "      <td>150000 - 180000</td>\n",
       "    </tr>\n",
       "  </tbody>\n",
       "</table>\n",
       "</div>"
      ],
      "text/plain": [
       "   Card Type Exp Type Gender MonthName    DayName City Tier  Amount_Category\n",
       "0       Gold    Bills      F   October  Wednesday    Tier-1    60000 - 90000\n",
       "1   Platinum    Bills      F    August     Friday    Tier-3    30000 - 60000\n",
       "2     Silver    Bills      F    August  Wednesday    Tier-1   90000 - 120000\n",
       "3  Signature    Bills      F     April   Saturday    Tier-3  120000 - 150000\n",
       "4       Gold    Bills      F       May    Tuesday    Tier-1  150000 - 180000"
      ]
     },
     "execution_count": 72,
     "metadata": {},
     "output_type": "execute_result"
    }
   ],
   "source": [
    "data.head()"
   ]
  },
  {
   "cell_type": "code",
   "execution_count": 73,
   "metadata": {},
   "outputs": [
    {
     "name": "stdout",
     "output_type": "stream",
     "text": [
      "Unique values in Card Type:  ['Gold' 'Platinum' 'Silver' 'Signature']\n",
      "Unique values in Exp Type:  ['Bills' 'Food' 'Entertainment' 'Grocery' 'Fuel' 'Travel']\n",
      "Unique values in Gender:  ['F' 'M']\n",
      "Unique values in MonthName:  ['October' 'August' 'April' 'May' 'September' 'February' 'June' 'March'\n",
      " 'December' 'July' 'November' 'January']\n",
      "Unique values in DayName:  ['Wednesday' 'Friday' 'Saturday' 'Tuesday' 'Monday' 'Thursday' 'Sunday']\n",
      "Unique values in City Tier:  ['Tier-1' 'Tier-3' 'Tier-2']\n",
      "Unique values in Amount_Category:  ['60000 - 90000' '30000 - 60000' '90000 - 120000' '120000 - 150000'\n",
      " '150000 - 180000' '180000 - 210000' '270000 - 300000' '0 - 30000'\n",
      " '240000 - 270000' '210000 - 240000']\n"
     ]
    }
   ],
   "source": [
    "print(\"Unique values in Card Type: \", data['Card Type'].unique())\n",
    "print(\"Unique values in Exp Type: \", data['Exp Type'].unique())\n",
    "print(\"Unique values in Gender: \", data['Gender'].unique())\n",
    "print(\"Unique values in MonthName: \", data['MonthName'].unique())\n",
    "print(\"Unique values in DayName: \", data['DayName'].unique())\n",
    "print(\"Unique values in City Tier: \", data['City Tier'].unique())\n",
    "print(\"Unique values in Amount_Category: \", data['Amount_Category'].unique())"
   ]
  },
  {
   "cell_type": "code",
   "execution_count": 74,
   "metadata": {},
   "outputs": [],
   "source": [
    "card_type_encoding = {'Gold': 0, 'Platinum': 1, 'Silver': 2, 'Signature': 3}\n",
    "\n",
    "exp_type_encoding = {'Bills': 0, 'Food': 1, 'Entertainment': 2, 'Grocery': 3,\n",
    "                     'Fuel': 4, 'Travel': 5}\n",
    "\n",
    "gender_encoding = {'F': 0, 'M': 1}\n",
    "\n",
    "month_encoding = { 'January': 0, 'February': 1, 'March': 2, 'April': 3, \n",
    "                  'May': 4, 'June': 5, 'July': 6, 'August': 7, \n",
    "                  'September': 8, 'October': 9, 'November': 10, \n",
    "                  'December': 11}\n",
    "\n",
    "day_encoding = { 'Monday': 0, 'Tuesday': 1, 'Wednesday': 2, \n",
    "                'Thursday': 3, 'Friday': 4, 'Saturday': 5, 'Sunday': 6}\n",
    "\n",
    "city_tier_encoding = {'Tier-1': 0, 'Tier-2': 1, 'Tier-3': 2}\n",
    "\n",
    "amount_category_encoding = {\n",
    "    '0 - 30000': 0, \n",
    "    '30000 - 60000': 1, \n",
    "    '60000 - 90000': 2,\n",
    "    '90000 - 120000': 3, \n",
    "    '120000 - 150000': 4, \n",
    "    '150000 - 180000': 5,\n",
    "    '180000 - 210000': 6, \n",
    "    '210000 - 240000': 7, \n",
    "    '240000 - 270000': 8,\n",
    "    '270000 - 300000': 9\n",
    "}"
   ]
  },
  {
   "cell_type": "code",
   "execution_count": 75,
   "metadata": {},
   "outputs": [],
   "source": [
    "card_type_decoding = {v: k for k, v in card_type_encoding.items()}\n",
    "exp_type_decoding = {v: k for k, v in exp_type_encoding.items()}\n",
    "gender_decoding = {v: k for k, v in gender_encoding.items()}\n",
    "month_decoding = {v: k for k, v in month_encoding.items()}\n",
    "day_decoding = {v: k for k, v in day_encoding.items()}\n",
    "city_tier_decoding = {v: k for k, v in city_tier_encoding.items()}\n",
    "amount_category_decoding = {v: k for k, v in amount_category_encoding.items()}"
   ]
  },
  {
   "cell_type": "code",
   "execution_count": 76,
   "metadata": {},
   "outputs": [
    {
     "data": {
      "text/html": [
       "<div>\n",
       "<style scoped>\n",
       "    .dataframe tbody tr th:only-of-type {\n",
       "        vertical-align: middle;\n",
       "    }\n",
       "\n",
       "    .dataframe tbody tr th {\n",
       "        vertical-align: top;\n",
       "    }\n",
       "\n",
       "    .dataframe thead th {\n",
       "        text-align: right;\n",
       "    }\n",
       "</style>\n",
       "<table border=\"1\" class=\"dataframe\">\n",
       "  <thead>\n",
       "    <tr style=\"text-align: right;\">\n",
       "      <th></th>\n",
       "      <th>Card Type</th>\n",
       "      <th>Exp Type</th>\n",
       "      <th>Gender</th>\n",
       "      <th>MonthName</th>\n",
       "      <th>DayName</th>\n",
       "      <th>City Tier</th>\n",
       "      <th>Amount_Category</th>\n",
       "    </tr>\n",
       "  </thead>\n",
       "  <tbody>\n",
       "    <tr>\n",
       "      <th>0</th>\n",
       "      <td>0</td>\n",
       "      <td>0</td>\n",
       "      <td>0</td>\n",
       "      <td>9</td>\n",
       "      <td>2</td>\n",
       "      <td>0</td>\n",
       "      <td>2</td>\n",
       "    </tr>\n",
       "    <tr>\n",
       "      <th>1</th>\n",
       "      <td>1</td>\n",
       "      <td>0</td>\n",
       "      <td>0</td>\n",
       "      <td>7</td>\n",
       "      <td>4</td>\n",
       "      <td>2</td>\n",
       "      <td>1</td>\n",
       "    </tr>\n",
       "    <tr>\n",
       "      <th>2</th>\n",
       "      <td>2</td>\n",
       "      <td>0</td>\n",
       "      <td>0</td>\n",
       "      <td>7</td>\n",
       "      <td>2</td>\n",
       "      <td>0</td>\n",
       "      <td>3</td>\n",
       "    </tr>\n",
       "    <tr>\n",
       "      <th>3</th>\n",
       "      <td>3</td>\n",
       "      <td>0</td>\n",
       "      <td>0</td>\n",
       "      <td>3</td>\n",
       "      <td>5</td>\n",
       "      <td>2</td>\n",
       "      <td>4</td>\n",
       "    </tr>\n",
       "    <tr>\n",
       "      <th>4</th>\n",
       "      <td>0</td>\n",
       "      <td>0</td>\n",
       "      <td>0</td>\n",
       "      <td>4</td>\n",
       "      <td>1</td>\n",
       "      <td>0</td>\n",
       "      <td>5</td>\n",
       "    </tr>\n",
       "  </tbody>\n",
       "</table>\n",
       "</div>"
      ],
      "text/plain": [
       "   Card Type  Exp Type  Gender  MonthName  DayName  City Tier  Amount_Category\n",
       "0          0         0       0          9        2          0                2\n",
       "1          1         0       0          7        4          2                1\n",
       "2          2         0       0          7        2          0                3\n",
       "3          3         0       0          3        5          2                4\n",
       "4          0         0       0          4        1          0                5"
      ]
     },
     "execution_count": 76,
     "metadata": {},
     "output_type": "execute_result"
    }
   ],
   "source": [
    "def apply_encoding(series, encoding_dict):\n",
    "    return series.map(encoding_dict)\n",
    "\n",
    "data_encoded = data.copy()\n",
    "data_encoded['Card Type'] = apply_encoding(data['Card Type'], card_type_encoding)\n",
    "data_encoded['Exp Type'] = apply_encoding(data['Exp Type'], exp_type_encoding)\n",
    "data_encoded['Gender'] = apply_encoding(data['Gender'], gender_encoding)\n",
    "data_encoded['MonthName'] = apply_encoding(data['MonthName'], month_encoding)\n",
    "data_encoded['DayName'] = apply_encoding(data['DayName'], day_encoding)\n",
    "data_encoded['City Tier'] = apply_encoding(data['City Tier'], city_tier_encoding)\n",
    "data_encoded['Amount_Category'] = apply_encoding(data['Amount_Category'], amount_category_encoding)\n",
    "\n",
    "data_encoded.head()"
   ]
  },
  {
   "cell_type": "code",
   "execution_count": 36,
   "metadata": {
    "execution": {
     "iopub.execute_input": "2024-06-21T19:12:55.028529Z",
     "iopub.status.busy": "2024-06-21T19:12:55.027938Z",
     "iopub.status.idle": "2024-06-21T19:12:55.072375Z",
     "shell.execute_reply": "2024-06-21T19:12:55.071330Z",
     "shell.execute_reply.started": "2024-06-21T19:12:55.028491Z"
    }
   },
   "outputs": [
    {
     "data": {
      "text/html": [
       "<div>\n",
       "<style scoped>\n",
       "    .dataframe tbody tr th:only-of-type {\n",
       "        vertical-align: middle;\n",
       "    }\n",
       "\n",
       "    .dataframe tbody tr th {\n",
       "        vertical-align: top;\n",
       "    }\n",
       "\n",
       "    .dataframe thead th {\n",
       "        text-align: right;\n",
       "    }\n",
       "</style>\n",
       "<table border=\"1\" class=\"dataframe\">\n",
       "  <thead>\n",
       "    <tr style=\"text-align: right;\">\n",
       "      <th></th>\n",
       "      <th>Card Type</th>\n",
       "      <th>Exp Type</th>\n",
       "      <th>Gender</th>\n",
       "      <th>MonthName</th>\n",
       "      <th>DayName</th>\n",
       "      <th>City Tier</th>\n",
       "      <th>Amount_Category</th>\n",
       "    </tr>\n",
       "  </thead>\n",
       "  <tbody>\n",
       "    <tr>\n",
       "      <th>count</th>\n",
       "      <td>25754.000000</td>\n",
       "      <td>25754.000000</td>\n",
       "      <td>25754.000000</td>\n",
       "      <td>25754.000000</td>\n",
       "      <td>25754.000000</td>\n",
       "      <td>25754.000000</td>\n",
       "      <td>25754.000000</td>\n",
       "    </tr>\n",
       "    <tr>\n",
       "      <th>mean</th>\n",
       "      <td>1.513590</td>\n",
       "      <td>2.095480</td>\n",
       "      <td>0.480391</td>\n",
       "      <td>5.356372</td>\n",
       "      <td>3.014561</td>\n",
       "      <td>0.822979</td>\n",
       "      <td>4.524307</td>\n",
       "    </tr>\n",
       "    <tr>\n",
       "      <th>std</th>\n",
       "      <td>1.110306</td>\n",
       "      <td>1.484752</td>\n",
       "      <td>0.499625</td>\n",
       "      <td>3.740366</td>\n",
       "      <td>2.006044</td>\n",
       "      <td>0.911873</td>\n",
       "      <td>2.871234</td>\n",
       "    </tr>\n",
       "    <tr>\n",
       "      <th>min</th>\n",
       "      <td>0.000000</td>\n",
       "      <td>0.000000</td>\n",
       "      <td>0.000000</td>\n",
       "      <td>0.000000</td>\n",
       "      <td>0.000000</td>\n",
       "      <td>0.000000</td>\n",
       "      <td>0.000000</td>\n",
       "    </tr>\n",
       "    <tr>\n",
       "      <th>25%</th>\n",
       "      <td>1.000000</td>\n",
       "      <td>1.000000</td>\n",
       "      <td>0.000000</td>\n",
       "      <td>2.000000</td>\n",
       "      <td>1.000000</td>\n",
       "      <td>0.000000</td>\n",
       "      <td>2.000000</td>\n",
       "    </tr>\n",
       "    <tr>\n",
       "      <th>50%</th>\n",
       "      <td>2.000000</td>\n",
       "      <td>2.000000</td>\n",
       "      <td>0.000000</td>\n",
       "      <td>5.000000</td>\n",
       "      <td>3.000000</td>\n",
       "      <td>0.000000</td>\n",
       "      <td>5.000000</td>\n",
       "    </tr>\n",
       "    <tr>\n",
       "      <th>75%</th>\n",
       "      <td>2.000000</td>\n",
       "      <td>3.000000</td>\n",
       "      <td>1.000000</td>\n",
       "      <td>9.000000</td>\n",
       "      <td>5.000000</td>\n",
       "      <td>2.000000</td>\n",
       "      <td>7.000000</td>\n",
       "    </tr>\n",
       "    <tr>\n",
       "      <th>max</th>\n",
       "      <td>3.000000</td>\n",
       "      <td>5.000000</td>\n",
       "      <td>1.000000</td>\n",
       "      <td>11.000000</td>\n",
       "      <td>6.000000</td>\n",
       "      <td>2.000000</td>\n",
       "      <td>9.000000</td>\n",
       "    </tr>\n",
       "  </tbody>\n",
       "</table>\n",
       "</div>"
      ],
      "text/plain": [
       "          Card Type      Exp Type        Gender     MonthName       DayName  \\\n",
       "count  25754.000000  25754.000000  25754.000000  25754.000000  25754.000000   \n",
       "mean       1.513590      2.095480      0.480391      5.356372      3.014561   \n",
       "std        1.110306      1.484752      0.499625      3.740366      2.006044   \n",
       "min        0.000000      0.000000      0.000000      0.000000      0.000000   \n",
       "25%        1.000000      1.000000      0.000000      2.000000      1.000000   \n",
       "50%        2.000000      2.000000      0.000000      5.000000      3.000000   \n",
       "75%        2.000000      3.000000      1.000000      9.000000      5.000000   \n",
       "max        3.000000      5.000000      1.000000     11.000000      6.000000   \n",
       "\n",
       "          City Tier  Amount_Category  \n",
       "count  25754.000000     25754.000000  \n",
       "mean       0.822979         4.524307  \n",
       "std        0.911873         2.871234  \n",
       "min        0.000000         0.000000  \n",
       "25%        0.000000         2.000000  \n",
       "50%        0.000000         5.000000  \n",
       "75%        2.000000         7.000000  \n",
       "max        2.000000         9.000000  "
      ]
     },
     "execution_count": 36,
     "metadata": {},
     "output_type": "execute_result"
    }
   ],
   "source": [
    "data_encoded.describe()"
   ]
  },
  {
   "cell_type": "code",
   "execution_count": 77,
   "metadata": {},
   "outputs": [],
   "source": [
    "data_matrix = data_encoded.to_numpy()"
   ]
  },
  {
   "cell_type": "code",
   "execution_count": 78,
   "metadata": {},
   "outputs": [
    {
     "data": {
      "text/plain": [
       "array([[0, 0, 0, ..., 2, 0, 2],\n",
       "       [1, 0, 0, ..., 4, 2, 1],\n",
       "       [2, 0, 0, ..., 2, 0, 3],\n",
       "       ...,\n",
       "       [2, 5, 1, ..., 4, 0, 8],\n",
       "       [2, 5, 1, ..., 6, 1, 2],\n",
       "       [3, 0, 1, ..., 5, 0, 6]], dtype=int64)"
      ]
     },
     "execution_count": 78,
     "metadata": {},
     "output_type": "execute_result"
    }
   ],
   "source": [
    "data_matrix"
   ]
  },
  {
   "cell_type": "code",
   "execution_count": 79,
   "metadata": {},
   "outputs": [
    {
     "name": "stdout",
     "output_type": "stream",
     "text": [
      "1\n",
      "Init: initializing centroids\n",
      "Init: initializing clusters\n",
      "Starting iterations...\n",
      "Run 1, iteration: 1/100, moves: 0, cost: 132173.0\n",
      "Init: initializing centroids\n",
      "Init: initializing clusters\n",
      "Starting iterations...\n",
      "Run 2, iteration: 1/100, moves: 0, cost: 132173.0\n",
      "Init: initializing centroids\n",
      "Init: initializing clusters\n",
      "Starting iterations...\n",
      "Run 3, iteration: 1/100, moves: 0, cost: 132173.0\n",
      "Init: initializing centroids\n",
      "Init: initializing clusters\n",
      "Starting iterations...\n",
      "Run 4, iteration: 1/100, moves: 0, cost: 132173.0\n",
      "Init: initializing centroids\n",
      "Init: initializing clusters\n",
      "Starting iterations...\n",
      "Run 5, iteration: 1/100, moves: 0, cost: 132173.0\n",
      "Best run was number 1\n",
      "2\n",
      "Init: initializing centroids\n",
      "Init: initializing clusters\n",
      "Starting iterations...\n",
      "Run 1, iteration: 1/100, moves: 924, cost: 121111.0\n",
      "Init: initializing centroids\n",
      "Init: initializing clusters\n",
      "Starting iterations...\n",
      "Run 2, iteration: 1/100, moves: 2926, cost: 116372.0\n",
      "Init: initializing centroids\n",
      "Init: initializing clusters\n",
      "Starting iterations...\n",
      "Run 3, iteration: 1/100, moves: 2230, cost: 117640.0\n",
      "Init: initializing centroids\n",
      "Init: initializing clusters\n",
      "Starting iterations...\n",
      "Run 4, iteration: 1/100, moves: 2928, cost: 116273.0\n",
      "Run 4, iteration: 2/100, moves: 333, cost: 116273.0\n",
      "Init: initializing centroids\n",
      "Init: initializing clusters\n",
      "Starting iterations...\n",
      "Run 5, iteration: 1/100, moves: 1619, cost: 117032.0\n",
      "Best run was number 4\n",
      "3\n",
      "Init: initializing centroids\n",
      "Init: initializing clusters\n",
      "Starting iterations...\n",
      "Run 1, iteration: 1/100, moves: 0, cost: 112025.0\n",
      "Init: initializing centroids\n",
      "Init: initializing clusters\n",
      "Starting iterations...\n",
      "Run 2, iteration: 1/100, moves: 4334, cost: 111910.0\n",
      "Init: initializing centroids\n",
      "Init: initializing clusters\n",
      "Starting iterations...\n",
      "Run 3, iteration: 1/100, moves: 0, cost: 111945.0\n",
      "Init: initializing centroids\n",
      "Init: initializing clusters\n",
      "Starting iterations...\n",
      "Run 4, iteration: 1/100, moves: 0, cost: 111680.0\n",
      "Init: initializing centroids\n",
      "Init: initializing clusters\n",
      "Starting iterations...\n",
      "Run 5, iteration: 1/100, moves: 0, cost: 112697.0\n",
      "Best run was number 4\n",
      "4\n",
      "Init: initializing centroids\n",
      "Init: initializing clusters\n",
      "Starting iterations...\n",
      "Run 1, iteration: 1/100, moves: 0, cost: 107270.0\n",
      "Init: initializing centroids\n",
      "Init: initializing clusters\n",
      "Starting iterations...\n",
      "Run 2, iteration: 1/100, moves: 993, cost: 105882.0\n",
      "Init: initializing centroids\n",
      "Init: initializing clusters\n",
      "Starting iterations...\n",
      "Run 3, iteration: 1/100, moves: 0, cost: 107839.0\n",
      "Init: initializing centroids\n",
      "Init: initializing clusters\n",
      "Starting iterations...\n",
      "Run 4, iteration: 1/100, moves: 1014, cost: 107560.0\n",
      "Init: initializing centroids\n",
      "Init: initializing clusters\n",
      "Starting iterations...\n",
      "Run 5, iteration: 1/100, moves: 0, cost: 105930.0\n",
      "Best run was number 2\n",
      "5\n",
      "Init: initializing centroids\n",
      "Init: initializing clusters\n",
      "Starting iterations...\n",
      "Run 1, iteration: 1/100, moves: 0, cost: 107058.0\n",
      "Init: initializing centroids\n",
      "Init: initializing clusters\n",
      "Starting iterations...\n",
      "Run 2, iteration: 1/100, moves: 0, cost: 101685.0\n",
      "Init: initializing centroids\n",
      "Init: initializing clusters\n",
      "Starting iterations...\n",
      "Run 3, iteration: 1/100, moves: 0, cost: 101571.0\n",
      "Init: initializing centroids\n",
      "Init: initializing clusters\n",
      "Starting iterations...\n",
      "Run 4, iteration: 1/100, moves: 1021, cost: 107447.0\n",
      "Run 4, iteration: 2/100, moves: 3183, cost: 106988.0\n",
      "Run 4, iteration: 3/100, moves: 341, cost: 106988.0\n",
      "Init: initializing centroids\n",
      "Init: initializing clusters\n",
      "Starting iterations...\n",
      "Run 5, iteration: 1/100, moves: 0, cost: 106602.0\n",
      "Best run was number 3\n",
      "6\n",
      "Init: initializing centroids\n",
      "Init: initializing clusters\n",
      "Starting iterations...\n",
      "Run 1, iteration: 1/100, moves: 0, cost: 99496.0\n",
      "Init: initializing centroids\n",
      "Init: initializing clusters\n",
      "Starting iterations...\n",
      "Run 2, iteration: 1/100, moves: 0, cost: 101195.0\n",
      "Init: initializing centroids\n",
      "Init: initializing clusters\n",
      "Starting iterations...\n",
      "Run 3, iteration: 1/100, moves: 0, cost: 100939.0\n",
      "Init: initializing centroids\n",
      "Init: initializing clusters\n",
      "Starting iterations...\n",
      "Run 4, iteration: 1/100, moves: 4906, cost: 101047.0\n",
      "Run 4, iteration: 2/100, moves: 1179, cost: 101047.0\n",
      "Init: initializing centroids\n",
      "Init: initializing clusters\n",
      "Starting iterations...\n",
      "Run 5, iteration: 1/100, moves: 4919, cost: 101770.0\n",
      "Run 5, iteration: 2/100, moves: 218, cost: 101770.0\n",
      "Best run was number 1\n",
      "7\n",
      "Init: initializing centroids\n",
      "Init: initializing clusters\n",
      "Starting iterations...\n",
      "Run 1, iteration: 1/100, moves: 1339, cost: 96926.0\n",
      "Init: initializing centroids\n",
      "Init: initializing clusters\n",
      "Starting iterations...\n",
      "Run 2, iteration: 1/100, moves: 0, cost: 97222.0\n",
      "Init: initializing centroids\n",
      "Init: initializing clusters\n",
      "Starting iterations...\n",
      "Run 3, iteration: 1/100, moves: 0, cost: 98144.0\n",
      "Init: initializing centroids\n",
      "Init: initializing clusters\n",
      "Starting iterations...\n",
      "Run 4, iteration: 1/100, moves: 0, cost: 99186.0\n",
      "Init: initializing centroids\n",
      "Init: initializing clusters\n",
      "Starting iterations...\n",
      "Run 5, iteration: 1/100, moves: 0, cost: 96648.0\n",
      "Best run was number 5\n",
      "8\n",
      "Init: initializing centroids\n",
      "Init: initializing clusters\n",
      "Starting iterations...\n",
      "Run 1, iteration: 1/100, moves: 0, cost: 99749.0\n",
      "Init: initializing centroids\n",
      "Init: initializing clusters\n",
      "Starting iterations...\n",
      "Run 2, iteration: 1/100, moves: 0, cost: 95360.0\n",
      "Init: initializing centroids\n",
      "Init: initializing clusters\n",
      "Starting iterations...\n",
      "Run 3, iteration: 1/100, moves: 0, cost: 95897.0\n",
      "Init: initializing centroids\n",
      "Init: initializing clusters\n",
      "Starting iterations...\n",
      "Run 4, iteration: 1/100, moves: 912, cost: 99206.0\n",
      "Init: initializing centroids\n",
      "Init: initializing clusters\n",
      "Starting iterations...\n",
      "Run 5, iteration: 1/100, moves: 0, cost: 95430.0\n",
      "Best run was number 2\n",
      "9\n",
      "Init: initializing centroids\n",
      "Init: initializing clusters\n",
      "Starting iterations...\n",
      "Run 1, iteration: 1/100, moves: 2513, cost: 94530.0\n",
      "Init: initializing centroids\n",
      "Init: initializing clusters\n",
      "Starting iterations...\n",
      "Run 2, iteration: 1/100, moves: 0, cost: 95244.0\n",
      "Init: initializing centroids\n",
      "Init: initializing clusters\n",
      "Starting iterations...\n",
      "Run 3, iteration: 1/100, moves: 0, cost: 95173.0\n",
      "Init: initializing centroids\n",
      "Init: initializing clusters\n",
      "Starting iterations...\n",
      "Run 4, iteration: 1/100, moves: 0, cost: 96345.0\n",
      "Init: initializing centroids\n",
      "Init: initializing clusters\n",
      "Starting iterations...\n",
      "Run 5, iteration: 1/100, moves: 1017, cost: 93777.0\n",
      "Best run was number 5\n",
      "10\n",
      "Init: initializing centroids\n",
      "Init: initializing clusters\n",
      "Starting iterations...\n",
      "Run 1, iteration: 1/100, moves: 0, cost: 92752.0\n",
      "Init: initializing centroids\n",
      "Init: initializing clusters\n",
      "Starting iterations...\n",
      "Run 2, iteration: 1/100, moves: 5563, cost: 91756.0\n",
      "Init: initializing centroids\n",
      "Init: initializing clusters\n",
      "Starting iterations...\n",
      "Run 3, iteration: 1/100, moves: 0, cost: 92362.0\n",
      "Init: initializing centroids\n",
      "Init: initializing clusters\n",
      "Starting iterations...\n",
      "Run 4, iteration: 1/100, moves: 2310, cost: 94178.0\n",
      "Init: initializing centroids\n",
      "Init: initializing clusters\n",
      "Starting iterations...\n",
      "Run 5, iteration: 1/100, moves: 0, cost: 92767.0\n",
      "Best run was number 2\n",
      "11\n",
      "Init: initializing centroids\n",
      "Init: initializing clusters\n",
      "Starting iterations...\n",
      "Run 1, iteration: 1/100, moves: 0, cost: 90586.0\n",
      "Init: initializing centroids\n",
      "Init: initializing clusters\n",
      "Starting iterations...\n",
      "Run 2, iteration: 1/100, moves: 0, cost: 91344.0\n",
      "Init: initializing centroids\n",
      "Init: initializing clusters\n",
      "Starting iterations...\n",
      "Run 3, iteration: 1/100, moves: 0, cost: 92604.0\n",
      "Init: initializing centroids\n",
      "Init: initializing clusters\n",
      "Starting iterations...\n",
      "Run 4, iteration: 1/100, moves: 0, cost: 93484.0\n",
      "Init: initializing centroids\n",
      "Init: initializing clusters\n",
      "Starting iterations...\n",
      "Run 5, iteration: 1/100, moves: 0, cost: 95539.0\n",
      "Best run was number 1\n",
      "12\n",
      "Init: initializing centroids\n",
      "Init: initializing clusters\n",
      "Starting iterations...\n",
      "Run 1, iteration: 1/100, moves: 0, cost: 89704.0\n",
      "Init: initializing centroids\n",
      "Init: initializing clusters\n",
      "Starting iterations...\n",
      "Run 2, iteration: 1/100, moves: 0, cost: 90239.0\n",
      "Init: initializing centroids\n",
      "Init: initializing clusters\n",
      "Starting iterations...\n",
      "Run 3, iteration: 1/100, moves: 0, cost: 92339.0\n",
      "Init: initializing centroids\n",
      "Init: initializing clusters\n",
      "Starting iterations...\n",
      "Run 4, iteration: 1/100, moves: 2665, cost: 89786.0\n",
      "Init: initializing centroids\n",
      "Init: initializing clusters\n",
      "Starting iterations...\n",
      "Run 5, iteration: 1/100, moves: 0, cost: 91853.0\n",
      "Best run was number 1\n",
      "13\n",
      "Init: initializing centroids\n",
      "Init: initializing clusters\n",
      "Starting iterations...\n",
      "Run 1, iteration: 1/100, moves: 4961, cost: 89356.0\n",
      "Init: initializing centroids\n",
      "Init: initializing clusters\n",
      "Starting iterations...\n",
      "Run 2, iteration: 1/100, moves: 4335, cost: 88388.0\n",
      "Init: initializing centroids\n",
      "Init: initializing clusters\n",
      "Starting iterations...\n",
      "Run 3, iteration: 1/100, moves: 0, cost: 88284.0\n",
      "Init: initializing centroids\n",
      "Init: initializing clusters\n",
      "Starting iterations...\n",
      "Run 4, iteration: 1/100, moves: 0, cost: 89141.0\n",
      "Init: initializing centroids\n",
      "Init: initializing clusters\n",
      "Starting iterations...\n",
      "Run 5, iteration: 1/100, moves: 705, cost: 88447.0\n",
      "Best run was number 3\n",
      "14\n",
      "Init: initializing centroids\n",
      "Init: initializing clusters\n",
      "Starting iterations...\n",
      "Run 1, iteration: 1/100, moves: 0, cost: 88720.0\n",
      "Init: initializing centroids\n",
      "Init: initializing clusters\n",
      "Starting iterations...\n",
      "Run 2, iteration: 1/100, moves: 0, cost: 88849.0\n",
      "Init: initializing centroids\n",
      "Init: initializing clusters\n",
      "Starting iterations...\n",
      "Run 3, iteration: 1/100, moves: 0, cost: 87362.0\n",
      "Init: initializing centroids\n",
      "Init: initializing clusters\n",
      "Starting iterations...\n",
      "Run 4, iteration: 1/100, moves: 0, cost: 87695.0\n",
      "Init: initializing centroids\n",
      "Init: initializing clusters\n",
      "Starting iterations...\n",
      "Run 5, iteration: 1/100, moves: 0, cost: 89229.0\n",
      "Best run was number 3\n",
      "15\n",
      "Init: initializing centroids\n",
      "Init: initializing clusters\n",
      "Starting iterations...\n",
      "Run 1, iteration: 1/100, moves: 0, cost: 87355.0\n",
      "Init: initializing centroids\n",
      "Init: initializing clusters\n",
      "Starting iterations...\n",
      "Run 2, iteration: 1/100, moves: 2794, cost: 88037.0\n",
      "Init: initializing centroids\n",
      "Init: initializing clusters\n",
      "Starting iterations...\n",
      "Run 3, iteration: 1/100, moves: 1099, cost: 86896.0\n",
      "Init: initializing centroids\n",
      "Init: initializing clusters\n",
      "Starting iterations...\n",
      "Run 4, iteration: 1/100, moves: 0, cost: 90305.0\n",
      "Init: initializing centroids\n",
      "Init: initializing clusters\n",
      "Starting iterations...\n",
      "Run 5, iteration: 1/100, moves: 0, cost: 88471.0\n",
      "Best run was number 3\n",
      "16\n",
      "Init: initializing centroids\n",
      "Init: initializing clusters\n",
      "Starting iterations...\n",
      "Run 1, iteration: 1/100, moves: 0, cost: 85990.0\n",
      "Init: initializing centroids\n",
      "Init: initializing clusters\n",
      "Starting iterations...\n",
      "Run 2, iteration: 1/100, moves: 0, cost: 86388.0\n",
      "Init: initializing centroids\n",
      "Init: initializing clusters\n",
      "Starting iterations...\n",
      "Run 3, iteration: 1/100, moves: 0, cost: 87500.0\n",
      "Init: initializing centroids\n",
      "Init: initializing clusters\n",
      "Starting iterations...\n",
      "Run 4, iteration: 1/100, moves: 0, cost: 86017.0\n",
      "Init: initializing centroids\n",
      "Init: initializing clusters\n",
      "Starting iterations...\n",
      "Run 5, iteration: 1/100, moves: 0, cost: 86221.0\n",
      "Best run was number 1\n",
      "17\n",
      "Init: initializing centroids\n",
      "Init: initializing clusters\n",
      "Starting iterations...\n",
      "Run 1, iteration: 1/100, moves: 0, cost: 85196.0\n",
      "Init: initializing centroids\n",
      "Init: initializing clusters\n",
      "Starting iterations...\n",
      "Run 2, iteration: 1/100, moves: 0, cost: 85369.0\n",
      "Init: initializing centroids\n",
      "Init: initializing clusters\n",
      "Starting iterations...\n",
      "Run 3, iteration: 1/100, moves: 0, cost: 85583.0\n",
      "Init: initializing centroids\n",
      "Init: initializing clusters\n",
      "Starting iterations...\n",
      "Run 4, iteration: 1/100, moves: 0, cost: 84988.0\n",
      "Init: initializing centroids\n",
      "Init: initializing clusters\n",
      "Starting iterations...\n",
      "Run 5, iteration: 1/100, moves: 0, cost: 85599.0\n",
      "Best run was number 4\n",
      "18\n",
      "Init: initializing centroids\n",
      "Init: initializing clusters\n",
      "Starting iterations...\n",
      "Run 1, iteration: 1/100, moves: 0, cost: 85328.0\n",
      "Init: initializing centroids\n",
      "Init: initializing clusters\n",
      "Starting iterations...\n",
      "Run 2, iteration: 1/100, moves: 807, cost: 84114.0\n",
      "Init: initializing centroids\n",
      "Init: initializing clusters\n",
      "Starting iterations...\n",
      "Run 3, iteration: 1/100, moves: 0, cost: 84940.0\n",
      "Init: initializing centroids\n",
      "Init: initializing clusters\n",
      "Starting iterations...\n",
      "Run 4, iteration: 1/100, moves: 0, cost: 85051.0\n",
      "Init: initializing centroids\n",
      "Init: initializing clusters\n",
      "Starting iterations...\n",
      "Run 5, iteration: 1/100, moves: 366, cost: 85833.0\n",
      "Best run was number 2\n",
      "19\n",
      "Init: initializing centroids\n",
      "Init: initializing clusters\n",
      "Starting iterations...\n",
      "Run 1, iteration: 1/100, moves: 0, cost: 85792.0\n",
      "Init: initializing centroids\n",
      "Init: initializing clusters\n",
      "Starting iterations...\n",
      "Run 2, iteration: 1/100, moves: 0, cost: 85815.0\n",
      "Init: initializing centroids\n",
      "Init: initializing clusters\n",
      "Starting iterations...\n",
      "Run 3, iteration: 1/100, moves: 0, cost: 83670.0\n",
      "Init: initializing centroids\n",
      "Init: initializing clusters\n",
      "Starting iterations...\n",
      "Run 4, iteration: 1/100, moves: 639, cost: 85358.0\n",
      "Init: initializing centroids\n",
      "Init: initializing clusters\n",
      "Starting iterations...\n",
      "Run 5, iteration: 1/100, moves: 0, cost: 83961.0\n",
      "Best run was number 3\n",
      "20\n",
      "Init: initializing centroids\n",
      "Init: initializing clusters\n",
      "Starting iterations...\n",
      "Run 1, iteration: 1/100, moves: 0, cost: 83001.0\n",
      "Init: initializing centroids\n",
      "Init: initializing clusters\n",
      "Starting iterations...\n",
      "Run 2, iteration: 1/100, moves: 0, cost: 83864.0\n",
      "Init: initializing centroids\n",
      "Init: initializing clusters\n",
      "Starting iterations...\n",
      "Run 3, iteration: 1/100, moves: 0, cost: 83598.0\n",
      "Init: initializing centroids\n",
      "Init: initializing clusters\n",
      "Starting iterations...\n",
      "Run 4, iteration: 1/100, moves: 0, cost: 84470.0\n",
      "Init: initializing centroids\n",
      "Init: initializing clusters\n",
      "Starting iterations...\n",
      "Run 5, iteration: 1/100, moves: 0, cost: 83525.0\n",
      "Best run was number 1\n",
      "21\n",
      "Init: initializing centroids\n",
      "Init: initializing clusters\n",
      "Starting iterations...\n",
      "Run 1, iteration: 1/100, moves: 0, cost: 84365.0\n",
      "Init: initializing centroids\n",
      "Init: initializing clusters\n",
      "Starting iterations...\n",
      "Run 2, iteration: 1/100, moves: 0, cost: 82244.0\n",
      "Init: initializing centroids\n",
      "Init: initializing clusters\n",
      "Starting iterations...\n",
      "Run 3, iteration: 1/100, moves: 0, cost: 83930.0\n",
      "Init: initializing centroids\n",
      "Init: initializing clusters\n",
      "Starting iterations...\n",
      "Run 4, iteration: 1/100, moves: 0, cost: 83008.0\n",
      "Init: initializing centroids\n",
      "Init: initializing clusters\n",
      "Starting iterations...\n",
      "Run 5, iteration: 1/100, moves: 0, cost: 82678.0\n",
      "Best run was number 2\n",
      "22\n",
      "Init: initializing centroids\n",
      "Init: initializing clusters\n",
      "Starting iterations...\n",
      "Run 1, iteration: 1/100, moves: 0, cost: 81628.0\n",
      "Init: initializing centroids\n",
      "Init: initializing clusters\n",
      "Starting iterations...\n",
      "Run 2, iteration: 1/100, moves: 0, cost: 81271.0\n",
      "Init: initializing centroids\n",
      "Init: initializing clusters\n",
      "Starting iterations...\n",
      "Run 3, iteration: 1/100, moves: 0, cost: 81886.0\n",
      "Init: initializing centroids\n",
      "Init: initializing clusters\n",
      "Starting iterations...\n",
      "Run 4, iteration: 1/100, moves: 1119, cost: 82876.0\n",
      "Init: initializing centroids\n",
      "Init: initializing clusters\n",
      "Starting iterations...\n",
      "Run 5, iteration: 1/100, moves: 0, cost: 82509.0\n",
      "Best run was number 2\n",
      "23\n",
      "Init: initializing centroids\n",
      "Init: initializing clusters\n",
      "Starting iterations...\n",
      "Run 1, iteration: 1/100, moves: 0, cost: 81404.0\n",
      "Init: initializing centroids\n",
      "Init: initializing clusters\n",
      "Starting iterations...\n",
      "Run 2, iteration: 1/100, moves: 1071, cost: 82061.0\n",
      "Init: initializing centroids\n",
      "Init: initializing clusters\n",
      "Starting iterations...\n",
      "Run 3, iteration: 1/100, moves: 449, cost: 82382.0\n",
      "Init: initializing centroids\n",
      "Init: initializing clusters\n",
      "Starting iterations...\n",
      "Run 4, iteration: 1/100, moves: 0, cost: 81495.0\n",
      "Init: initializing centroids\n",
      "Init: initializing clusters\n",
      "Starting iterations...\n",
      "Run 5, iteration: 1/100, moves: 0, cost: 82079.0\n",
      "Best run was number 1\n",
      "24\n",
      "Init: initializing centroids\n",
      "Init: initializing clusters\n",
      "Starting iterations...\n",
      "Run 1, iteration: 1/100, moves: 1087, cost: 81000.0\n",
      "Init: initializing centroids\n",
      "Init: initializing clusters\n",
      "Starting iterations...\n",
      "Run 2, iteration: 1/100, moves: 0, cost: 81326.0\n",
      "Init: initializing centroids\n",
      "Init: initializing clusters\n",
      "Starting iterations...\n",
      "Run 3, iteration: 1/100, moves: 593, cost: 81472.0\n",
      "Init: initializing centroids\n",
      "Init: initializing clusters\n",
      "Starting iterations...\n",
      "Run 4, iteration: 1/100, moves: 0, cost: 80886.0\n",
      "Init: initializing centroids\n",
      "Init: initializing clusters\n",
      "Starting iterations...\n",
      "Run 5, iteration: 1/100, moves: 0, cost: 81553.0\n",
      "Best run was number 4\n",
      "25\n",
      "Init: initializing centroids\n",
      "Init: initializing clusters\n",
      "Starting iterations...\n",
      "Run 1, iteration: 1/100, moves: 0, cost: 80699.0\n",
      "Init: initializing centroids\n",
      "Init: initializing clusters\n",
      "Starting iterations...\n",
      "Run 2, iteration: 1/100, moves: 0, cost: 80364.0\n",
      "Init: initializing centroids\n",
      "Init: initializing clusters\n",
      "Starting iterations...\n",
      "Run 3, iteration: 1/100, moves: 0, cost: 79406.0\n",
      "Init: initializing centroids\n",
      "Init: initializing clusters\n",
      "Starting iterations...\n",
      "Run 4, iteration: 1/100, moves: 0, cost: 80890.0\n",
      "Init: initializing centroids\n",
      "Init: initializing clusters\n",
      "Starting iterations...\n",
      "Run 5, iteration: 1/100, moves: 1163, cost: 80476.0\n",
      "Best run was number 3\n",
      "26\n",
      "Init: initializing centroids\n",
      "Init: initializing clusters\n",
      "Starting iterations...\n",
      "Run 1, iteration: 1/100, moves: 0, cost: 80042.0\n",
      "Init: initializing centroids\n",
      "Init: initializing clusters\n",
      "Starting iterations...\n",
      "Run 2, iteration: 1/100, moves: 1028, cost: 79599.0\n",
      "Init: initializing centroids\n",
      "Init: initializing clusters\n",
      "Starting iterations...\n",
      "Run 3, iteration: 1/100, moves: 0, cost: 81100.0\n",
      "Init: initializing centroids\n",
      "Init: initializing clusters\n",
      "Starting iterations...\n",
      "Run 4, iteration: 1/100, moves: 0, cost: 80242.0\n",
      "Init: initializing centroids\n",
      "Init: initializing clusters\n",
      "Starting iterations...\n",
      "Run 5, iteration: 1/100, moves: 0, cost: 79830.0\n",
      "Best run was number 2\n",
      "27\n",
      "Init: initializing centroids\n",
      "Init: initializing clusters\n",
      "Starting iterations...\n",
      "Run 1, iteration: 1/100, moves: 0, cost: 80478.0\n",
      "Init: initializing centroids\n",
      "Init: initializing clusters\n",
      "Starting iterations...\n",
      "Run 2, iteration: 1/100, moves: 0, cost: 79426.0\n",
      "Init: initializing centroids\n",
      "Init: initializing clusters\n",
      "Starting iterations...\n",
      "Run 3, iteration: 1/100, moves: 0, cost: 80472.0\n",
      "Init: initializing centroids\n",
      "Init: initializing clusters\n",
      "Starting iterations...\n",
      "Run 4, iteration: 1/100, moves: 301, cost: 78837.0\n",
      "Init: initializing centroids\n",
      "Init: initializing clusters\n",
      "Starting iterations...\n",
      "Run 5, iteration: 1/100, moves: 0, cost: 80394.0\n",
      "Best run was number 4\n",
      "28\n",
      "Init: initializing centroids\n",
      "Init: initializing clusters\n",
      "Starting iterations...\n",
      "Run 1, iteration: 1/100, moves: 0, cost: 79072.0\n",
      "Init: initializing centroids\n",
      "Init: initializing clusters\n",
      "Starting iterations...\n",
      "Run 2, iteration: 1/100, moves: 0, cost: 79925.0\n",
      "Init: initializing centroids\n",
      "Init: initializing clusters\n",
      "Starting iterations...\n",
      "Run 3, iteration: 1/100, moves: 588, cost: 80062.0\n",
      "Init: initializing centroids\n",
      "Init: initializing clusters\n",
      "Starting iterations...\n",
      "Run 4, iteration: 1/100, moves: 0, cost: 78648.0\n",
      "Init: initializing centroids\n",
      "Init: initializing clusters\n",
      "Starting iterations...\n",
      "Run 5, iteration: 1/100, moves: 0, cost: 78917.0\n",
      "Best run was number 4\n",
      "29\n",
      "Init: initializing centroids\n",
      "Init: initializing clusters\n",
      "Starting iterations...\n",
      "Run 1, iteration: 1/100, moves: 0, cost: 78210.0\n",
      "Init: initializing centroids\n",
      "Init: initializing clusters\n",
      "Starting iterations...\n",
      "Run 2, iteration: 1/100, moves: 0, cost: 79099.0\n",
      "Init: initializing centroids\n",
      "Init: initializing clusters\n",
      "Starting iterations...\n",
      "Run 3, iteration: 1/100, moves: 0, cost: 79050.0\n",
      "Init: initializing centroids\n",
      "Init: initializing clusters\n",
      "Starting iterations...\n",
      "Run 4, iteration: 1/100, moves: 0, cost: 79595.0\n",
      "Init: initializing centroids\n",
      "Init: initializing clusters\n",
      "Starting iterations...\n",
      "Run 5, iteration: 1/100, moves: 490, cost: 78814.0\n",
      "Best run was number 1\n"
     ]
    },
    {
     "data": {
      "image/png": "[encoded data removed]",
      "text/plain": [
       "<Figure size 800x400 with 1 Axes>"
      ]
     },
     "metadata": {},
     "output_type": "display_data"
    }
   ],
   "source": [
    "cost = []\n",
    "K = range(1, 30)\n",
    "\n",
    "for num_clusters in K:\n",
    "    print(num_clusters)\n",
    "    kmodes = KModes(n_clusters=num_clusters, init='Huang', n_init=5, verbose=1)\n",
    "    kmodes.fit_predict(data_matrix)\n",
    "    cost.append(kmodes.cost_)\n",
    "\n",
    "# Plot the cost against the number of clusters\n",
    "plt.figure(figsize=(8, 4))\n",
    "plt.plot(K, cost, 'bx-')\n",
    "plt.xlabel('Number of clusters')\n",
    "plt.ylabel('Cost')\n",
    "plt.title('Elbow Method For Optimal k')\n",
    "plt.show()"
   ]
  },
  {
   "cell_type": "code",
   "execution_count": null,
   "metadata": {
    "execution": {
     "iopub.execute_input": "2024-06-21T20:03:16.278157Z",
     "iopub.status.busy": "2024-06-21T20:03:16.277335Z",
     "iopub.status.idle": "2024-06-21T20:04:45.643797Z",
     "shell.execute_reply": "2024-06-21T20:04:45.642657Z",
     "shell.execute_reply.started": "2024-06-21T20:03:16.278124Z"
    }
   },
   "outputs": [
    {
     "name": "stdout",
     "output_type": "stream",
     "text": [
      "Init: initializing centroids\n",
      "Init: initializing clusters\n",
      "Starting iterations...\n",
      "Run 1, iteration: 1/100, moves: 0, cost: 86968.0\n",
      "Init: initializing centroids\n",
      "Init: initializing clusters\n",
      "Starting iterations...\n",
      "Run 2, iteration: 1/100, moves: 0, cost: 84810.0\n",
      "Init: initializing centroids\n",
      "Init: initializing clusters\n",
      "Starting iterations...\n",
      "Run 3, iteration: 1/100, moves: 949, cost: 85657.0\n",
      "Init: initializing centroids\n",
      "Init: initializing clusters\n",
      "Starting iterations...\n",
      "Run 4, iteration: 1/100, moves: 0, cost: 84944.0\n",
      "Init: initializing centroids\n",
      "Init: initializing clusters\n",
      "Starting iterations...\n",
      "Run 5, iteration: 1/100, moves: 824, cost: 86355.0\n",
      "Best run was number 2\n"
     ]
    }
   ],
   "source": [
    "\n",
    "best_k = 17\n",
    "kmodes = KModes(n_clusters=best_k, init='Huang', n_init=5, verbose=1)\n",
    "clusters = kmodes.fit_predict(data_matrix)\n"
   ]
  },
  {
   "cell_type": "code",
   "execution_count": 46,
   "metadata": {
    "execution": {
     "iopub.execute_input": "2024-06-21T20:04:45.645805Z",
     "iopub.status.busy": "2024-06-21T20:04:45.645462Z",
     "iopub.status.idle": "2024-06-21T20:04:45.653776Z",
     "shell.execute_reply": "2024-06-21T20:04:45.652649Z",
     "shell.execute_reply.started": "2024-06-21T20:04:45.645777Z"
    }
   },
   "outputs": [
    {
     "name": "stdout",
     "output_type": "stream",
     "text": [
      "Cluster 0: [2 4 1 0 4 0 9]\n",
      "Cluster 1: [1 4 0 4 4 2 8]\n",
      "Cluster 2: [2 4 0 0 5 0 4]\n",
      "Cluster 3: [2 1 0 4 5 0 3]\n",
      "Cluster 4: [ 3  0  1 10  1  2  6]\n",
      "Cluster 5: [0 4 0 3 5 2 3]\n",
      "Cluster 6: [1 1 1 0 3 0 9]\n",
      "Cluster 7: [2 0 1 4 6 1 1]\n",
      "Cluster 8: [3 0 0 9 1 0 9]\n",
      "Cluster 9: [3 4 1 1 0 1 9]\n",
      "Cluster 10: [2 3 1 4 2 0 8]\n",
      "Cluster 11: [2 1 0 2 2 0 0]\n",
      "Cluster 12: [0 3 1 2 3 0 1]\n",
      "Cluster 13: [ 0  2  0 10  3  2  9]\n",
      "Cluster 14: [0 0 1 8 4 0 2]\n",
      "Cluster 15: [1 3 1 5 2 0 0]\n",
      "Cluster 16: [1 0 0 4 4 0 6]\n"
     ]
    }
   ],
   "source": [
    "cluster_centroids = kmodes.cluster_centroids_\n",
    "for i, centroid in enumerate(cluster_centroids):\n",
    "    print(f\"Cluster {i}: {centroid}\")"
   ]
  },
  {
   "cell_type": "code",
   "execution_count": 47,
   "metadata": {
    "execution": {
     "iopub.execute_input": "2024-06-21T20:04:45.655806Z",
     "iopub.status.busy": "2024-06-21T20:04:45.655367Z",
     "iopub.status.idle": "2024-06-21T20:04:45.667777Z",
     "shell.execute_reply": "2024-06-21T20:04:45.666609Z",
     "shell.execute_reply.started": "2024-06-21T20:04:45.655778Z"
    }
   },
   "outputs": [
    {
     "name": "stdout",
     "output_type": "stream",
     "text": [
      "Cluster 0: ['Silver', 'Fuel', 'M', 'January', 'Friday', 'Tier-1', '270000 - 300000']\n",
      "Cluster 1: ['Platinum', 'Fuel', 'F', 'May', 'Friday', 'Tier-3', '240000 - 270000']\n",
      "Cluster 2: ['Silver', 'Fuel', 'F', 'January', 'Saturday', 'Tier-1', '120000 - 150000']\n",
      "Cluster 3: ['Silver', 'Food', 'F', 'May', 'Saturday', 'Tier-1', '90000 - 120000']\n",
      "Cluster 4: ['Signature', 'Bills', 'M', 'November', 'Tuesday', 'Tier-3', '180000 - 210000']\n",
      "Cluster 5: ['Gold', 'Fuel', 'F', 'April', 'Saturday', 'Tier-3', '90000 - 120000']\n",
      "Cluster 6: ['Platinum', 'Food', 'M', 'January', 'Thursday', 'Tier-1', '270000 - 300000']\n",
      "Cluster 7: ['Silver', 'Bills', 'M', 'May', 'Sunday', 'Tier-2', '30000 - 60000']\n",
      "Cluster 8: ['Signature', 'Bills', 'F', 'October', 'Tuesday', 'Tier-1', '270000 - 300000']\n",
      "Cluster 9: ['Signature', 'Fuel', 'M', 'February', 'Monday', 'Tier-2', '270000 - 300000']\n",
      "Cluster 10: ['Silver', 'Grocery', 'M', 'May', 'Wednesday', 'Tier-1', '240000 - 270000']\n",
      "Cluster 11: ['Silver', 'Food', 'F', 'March', 'Wednesday', 'Tier-1', '0 - 30000']\n",
      "Cluster 12: ['Gold', 'Grocery', 'M', 'March', 'Thursday', 'Tier-1', '30000 - 60000']\n",
      "Cluster 13: ['Gold', 'Entertainment', 'F', 'November', 'Thursday', 'Tier-3', '270000 - 300000']\n",
      "Cluster 14: ['Gold', 'Bills', 'M', 'September', 'Friday', 'Tier-1', '60000 - 90000']\n",
      "Cluster 15: ['Platinum', 'Grocery', 'M', 'June', 'Wednesday', 'Tier-1', '0 - 30000']\n",
      "Cluster 16: ['Platinum', 'Bills', 'F', 'May', 'Friday', 'Tier-1', '180000 - 210000']\n"
     ]
    }
   ],
   "source": [
    "def decode_cluster_centroids(cluster_centroids, decoding_dicts):\n",
    "    decoded_centroids = []\n",
    "    for centroid in cluster_centroids:\n",
    "        decoded_values = []\n",
    "        for i, code in enumerate(centroid):\n",
    "            decoded_values.append(decoding_dicts[i][code])\n",
    "        decoded_centroids.append(decoded_values)\n",
    "    return decoded_centroids\n",
    "\n",
    "decoded_centroids = decode_cluster_centroids(cluster_centroids, [\n",
    "    card_type_decoding, exp_type_decoding, gender_decoding,\n",
    "    month_decoding, day_decoding, city_tier_decoding, amount_category_decoding\n",
    "])\n",
    "\n",
    "for i, centroid in enumerate(decoded_centroids):\n",
    "    print(f\"Cluster {i}: {centroid}\")"
   ]
  },
  {
   "cell_type": "code",
   "execution_count": 48,
   "metadata": {
    "execution": {
     "iopub.execute_input": "2024-06-21T20:04:45.670417Z",
     "iopub.status.busy": "2024-06-21T20:04:45.669988Z",
     "iopub.status.idle": "2024-06-21T20:04:52.877637Z",
     "shell.execute_reply": "2024-06-21T20:04:52.876435Z",
     "shell.execute_reply.started": "2024-06-21T20:04:45.670381Z"
    }
   },
   "outputs": [
    {
     "name": "stdout",
     "output_type": "stream",
     "text": [
      "Silhouette Score: -0.08151647353846293\n"
     ]
    }
   ],
   "source": [
    "from sklearn.metrics import silhouette_score\n",
    "\n",
    "silhouette_avg = silhouette_score(data_matrix, clusters, metric='euclidean')\n",
    "print(f'Silhouette Score: {silhouette_avg}')"
   ]
  },
  {
   "cell_type": "code",
   "execution_count": 49,
   "metadata": {
    "execution": {
     "iopub.execute_input": "2024-06-21T20:04:52.879085Z",
     "iopub.status.busy": "2024-06-21T20:04:52.878786Z",
     "iopub.status.idle": "2024-06-21T20:04:53.602520Z",
     "shell.execute_reply": "2024-06-21T20:04:53.601360Z",
     "shell.execute_reply.started": "2024-06-21T20:04:52.879062Z"
    }
   },
   "outputs": [
    {
     "data": {
      "image/png": "[encoded data removed]",
      "text/plain": [
       "<Figure size 1200x800 with 2 Axes>"
      ]
     },
     "metadata": {},
     "output_type": "display_data"
    }
   ],
   "source": [
    "import seaborn as sns\n",
    "\n",
    "plt.figure(figsize=(12, 8))\n",
    "sns.heatmap(cluster_centroids, annot=True, cmap='viridis', fmt='.2f', xticklabels=data.columns)\n",
    "plt.title('Heatmap of Cluster Centroids')\n",
    "plt.show()"
   ]
  },
  {
   "cell_type": "code",
   "execution_count": 84,
   "metadata": {},
   "outputs": [
    {
     "name": "stdout",
     "output_type": "stream",
     "text": [
      "Init: initializing centroids\n",
      "Init: initializing clusters\n",
      "Starting iterations...\n",
      "Run 1, iteration: 1/100, moves: 0, cost: 90890.0\n",
      "Init: initializing centroids\n",
      "Init: initializing clusters\n",
      "Starting iterations...\n",
      "Run 2, iteration: 1/100, moves: 0, cost: 90669.0\n",
      "Init: initializing centroids\n",
      "Init: initializing clusters\n",
      "Starting iterations...\n",
      "Run 3, iteration: 1/100, moves: 0, cost: 91398.0\n",
      "Init: initializing centroids\n",
      "Init: initializing clusters\n",
      "Starting iterations...\n",
      "Run 4, iteration: 1/100, moves: 0, cost: 89741.0\n",
      "Init: initializing centroids\n",
      "Init: initializing clusters\n",
      "Starting iterations...\n",
      "Run 5, iteration: 1/100, moves: 0, cost: 89974.0\n",
      "Best run was number 4\n",
      "Cluster 0: [3 0 1 0 3 2 0]\n",
      "Cluster 1: [ 0  4  0 11  5  0  3]\n",
      "Cluster 2: [3 0 1 1 3 0 2]\n",
      "Cluster 3: [ 1  0  1 10  6  2  9]\n",
      "Cluster 4: [1 4 0 0 0 0 1]\n",
      "Cluster 5: [0 3 1 7 2 2 6]\n",
      "Cluster 6: [0 3 0 1 6 2 1]\n",
      "Cluster 7: [0 3 0 6 2 0 8]\n",
      "Cluster 8: [3 2 1 9 6 0 8]\n",
      "Cluster 9: [0 5 1 1 5 1 8]\n",
      "Cluster 10: [1 0 0 0 4 0 6]\n",
      "Cluster 11: [2 1 0 2 1 0 1]\n"
     ]
    },
    {
     "data": {
      "text/plain": [
       "['kmodes_model_12clusters.pkl']"
      ]
     },
     "execution_count": 84,
     "metadata": {},
     "output_type": "execute_result"
    }
   ],
   "source": [
    "from kmodes.kmodes import KModes\n",
    "import joblib\n",
    "\n",
    "best_k = 12\n",
    "kmodes = KModes(n_clusters=best_k, init='Huang', n_init=5, verbose=1)\n",
    "clusters = kmodes.fit_predict(data_matrix)\n",
    "cluster_centroids = kmodes.cluster_centroids_\n",
    "for i, centroid in enumerate(cluster_centroids):\n",
    "    print(f\"Cluster {i}: {centroid}\")\n",
    "    \n",
    "joblib.dump(kmodes, 'kmodes_model_12clusters.pkl')"
   ]
  },
  {
   "cell_type": "code",
   "execution_count": 85,
   "metadata": {},
   "outputs": [
    {
     "name": "stdout",
     "output_type": "stream",
     "text": [
      "Cluster 0: ['Signature', 'Bills', 'M', 'January', 'Thursday', 'Tier-3', '0 - 30000']\n",
      "Cluster 1: ['Gold', 'Fuel', 'F', 'December', 'Saturday', 'Tier-1', '90000 - 120000']\n",
      "Cluster 2: ['Signature', 'Bills', 'M', 'February', 'Thursday', 'Tier-1', '60000 - 90000']\n",
      "Cluster 3: ['Platinum', 'Bills', 'M', 'November', 'Sunday', 'Tier-3', '270000 - 300000']\n",
      "Cluster 4: ['Platinum', 'Fuel', 'F', 'January', 'Monday', 'Tier-1', '30000 - 60000']\n",
      "Cluster 5: ['Gold', 'Grocery', 'M', 'August', 'Wednesday', 'Tier-3', '180000 - 210000']\n",
      "Cluster 6: ['Gold', 'Grocery', 'F', 'February', 'Sunday', 'Tier-3', '30000 - 60000']\n",
      "Cluster 7: ['Gold', 'Grocery', 'F', 'July', 'Wednesday', 'Tier-1', '240000 - 270000']\n",
      "Cluster 8: ['Signature', 'Entertainment', 'M', 'October', 'Sunday', 'Tier-1', '240000 - 270000']\n",
      "Cluster 9: ['Gold', 'Travel', 'M', 'February', 'Saturday', 'Tier-2', '240000 - 270000']\n",
      "Cluster 10: ['Platinum', 'Bills', 'F', 'January', 'Friday', 'Tier-1', '180000 - 210000']\n",
      "Cluster 11: ['Silver', 'Food', 'F', 'March', 'Tuesday', 'Tier-1', '30000 - 60000']\n",
      "Silhouette Score: -0.06627151979004427\n"
     ]
    },
    {
     "data": {
      "image/png": "[encoded data removed]",
      "text/plain": [
       "<Figure size 1200x800 with 2 Axes>"
      ]
     },
     "metadata": {},
     "output_type": "display_data"
    }
   ],
   "source": [
    "def decode_cluster_centroids(cluster_centroids, decoding_dicts):\n",
    "    decoded_centroids = []\n",
    "    for centroid in cluster_centroids:\n",
    "        decoded_values = []\n",
    "        for i, code in enumerate(centroid):\n",
    "            decoded_values.append(decoding_dicts[i][code])\n",
    "        decoded_centroids.append(decoded_values)\n",
    "    return decoded_centroids\n",
    "\n",
    "decoded_centroids = decode_cluster_centroids(cluster_centroids, [\n",
    "    card_type_decoding, exp_type_decoding, gender_decoding,\n",
    "    month_decoding, day_decoding, city_tier_decoding, amount_category_decoding\n",
    "])\n",
    "\n",
    "for i, centroid in enumerate(decoded_centroids):\n",
    "    print(f\"Cluster {i}: {centroid}\")\n",
    "    \n",
    "from sklearn.metrics import silhouette_score\n",
    "\n",
    "silhouette_avg = silhouette_score(data_matrix, clusters, metric='euclidean')\n",
    "print(f'Silhouette Score: {silhouette_avg}')\n",
    "\n",
    "import seaborn as sns\n",
    "\n",
    "plt.figure(figsize=(12, 8))\n",
    "sns.heatmap(cluster_centroids, annot=True, cmap='viridis', fmt='.2f', xticklabels=data.columns)\n",
    "plt.title('Heatmap of Cluster Centroids')\n",
    "plt.show()"
   ]
  },
  {
   "cell_type": "code",
   "execution_count": 58,
   "metadata": {
    "execution": {
     "iopub.execute_input": "2024-06-21T20:22:06.586306Z",
     "iopub.status.busy": "2024-06-21T20:22:06.585959Z",
     "iopub.status.idle": "2024-06-21T20:22:33.380262Z",
     "shell.execute_reply": "2024-06-21T20:22:33.379174Z",
     "shell.execute_reply.started": "2024-06-21T20:22:06.586275Z"
    }
   },
   "outputs": [
    {
     "name": "stdout",
     "output_type": "stream",
     "text": [
      "Init: initializing centroids\n",
      "Init: initializing clusters\n",
      "Starting iterations...\n",
      "Run 1, iteration: 1/100, moves: 0, cost: 109629.0\n",
      "Init: initializing centroids\n",
      "Init: initializing clusters\n",
      "Starting iterations...\n",
      "Run 2, iteration: 1/100, moves: 0, cost: 107263.0\n",
      "Init: initializing centroids\n",
      "Init: initializing clusters\n",
      "Starting iterations...\n",
      "Run 3, iteration: 1/100, moves: 846, cost: 107569.0\n",
      "Init: initializing centroids\n",
      "Init: initializing clusters\n",
      "Starting iterations...\n",
      "Run 4, iteration: 1/100, moves: 2596, cost: 105214.0\n",
      "Init: initializing centroids\n",
      "Init: initializing clusters\n",
      "Starting iterations...\n",
      "Run 5, iteration: 1/100, moves: 0, cost: 108908.0\n",
      "Best run was number 4\n",
      "Cluster 0: [1 3 1 2 6 2 9]\n",
      "Cluster 1: [2 2 0 9 5 2 3]\n",
      "Cluster 2: [3 4 0 0 3 0 1]\n",
      "Cluster 3: [3 1 1 6 2 0 9]\n"
     ]
    }
   ],
   "source": [
    "best_k = 4\n",
    "kmodes = KModes(n_clusters=best_k, init='Huang', n_init=5, verbose=1)\n",
    "clusters = kmodes.fit_predict(data_matrix)\n",
    "cluster_centroids = kmodes.cluster_centroids_\n",
    "for i, centroid in enumerate(cluster_centroids):\n",
    "    print(f\"Cluster {i}: {centroid}\")\n",
    "    \n"
   ]
  },
  {
   "cell_type": "code",
   "execution_count": 59,
   "metadata": {
    "execution": {
     "iopub.execute_input": "2024-06-21T20:22:33.381948Z",
     "iopub.status.busy": "2024-06-21T20:22:33.381623Z",
     "iopub.status.idle": "2024-06-21T20:22:40.815681Z",
     "shell.execute_reply": "2024-06-21T20:22:40.814639Z",
     "shell.execute_reply.started": "2024-06-21T20:22:33.381922Z"
    }
   },
   "outputs": [
    {
     "name": "stdout",
     "output_type": "stream",
     "text": [
      "Cluster 0: ['Platinum', 'Grocery', 'M', 'March', 'Sunday', 'Tier-3', '270000 - 300000']\n",
      "Cluster 1: ['Silver', 'Entertainment', 'F', 'October', 'Saturday', 'Tier-3', '90000 - 120000']\n",
      "Cluster 2: ['Signature', 'Fuel', 'F', 'January', 'Thursday', 'Tier-1', '30000 - 60000']\n",
      "Cluster 3: ['Signature', 'Food', 'M', 'July', 'Wednesday', 'Tier-1', '270000 - 300000']\n",
      "Silhouette Score: -0.020618238552638307\n"
     ]
    },
    {
     "data": {
      "image/png": "[encoded data removed]",
      "text/plain": [
       "<Figure size 1200x800 with 2 Axes>"
      ]
     },
     "metadata": {},
     "output_type": "display_data"
    }
   ],
   "source": [
    "def decode_cluster_centroids(cluster_centroids, decoding_dicts):\n",
    "    decoded_centroids = []\n",
    "    for centroid in cluster_centroids:\n",
    "        decoded_values = []\n",
    "        for i, code in enumerate(centroid):\n",
    "            decoded_values.append(decoding_dicts[i][code])\n",
    "        decoded_centroids.append(decoded_values)\n",
    "    return decoded_centroids\n",
    "\n",
    "decoded_centroids = decode_cluster_centroids(cluster_centroids, [\n",
    "    card_type_decoding, exp_type_decoding, gender_decoding,\n",
    "    month_decoding, day_decoding, city_tier_decoding, amount_category_decoding\n",
    "])\n",
    "\n",
    "for i, centroid in enumerate(decoded_centroids):\n",
    "    print(f\"Cluster {i}: {centroid}\")\n",
    "    \n",
    "from sklearn.metrics import silhouette_score\n",
    "\n",
    "silhouette_avg = silhouette_score(data_matrix, clusters, metric='euclidean')\n",
    "print(f'Silhouette Score: {silhouette_avg}')\n",
    "\n",
    "import seaborn as sns\n",
    "\n",
    "plt.figure(figsize=(12, 8))\n",
    "sns.heatmap(cluster_centroids, annot=True, cmap='viridis', fmt='.2f', xticklabels=data.columns)\n",
    "plt.title('Heatmap of Cluster Centroids')\n",
    "plt.show()"
   ]
  }
 ],
 "metadata": {
  "kaggle": {
   "accelerator": "none",
   "dataSources": [
    {
     "datasetId": 2731425,
     "sourceId": 7809973,
     "sourceType": "datasetVersion"
    },
    {
     "datasetId": 5243750,
     "sourceId": 8735331,
     "sourceType": "datasetVersion"
    }
   ],
   "dockerImageVersionId": 30698,
   "isGpuEnabled": false,
   "isInternetEnabled": false,
   "language": "python",
   "sourceType": "notebook"
  },
  "kernelspec": {
   "display_name": "Python 3 (ipykernel)",
   "language": "python",
   "name": "python3"
  },
  "language_info": {
   "codemirror_mode": {
    "name": "ipython",
    "version": 3
   },
   "file_extension": ".py",
   "mimetype": "text/x-python",
   "name": "python",
   "nbconvert_exporter": "python",
   "pygments_lexer": "ipython3",
   "version": "3.11.5"
  }
 },
 "nbformat": 4,
 "nbformat_minor": 4
}
